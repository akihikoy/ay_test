{
 "cells": [
  {
   "cell_type": "code",
   "execution_count": 1,
   "id": "243f23a5-493e-4ec1-b406-5252e450d253",
   "metadata": {},
   "outputs": [],
   "source": [
    "import fastai.vision.all\n",
    "import numpy as np\n",
    "import torch\n",
    "import torchvision\n",
    "import matplotlib.pyplot as plt\n",
    "import mpl_toolkits.mplot3d\n",
    "import time"
   ]
  },
  {
   "cell_type": "code",
   "execution_count": 2,
   "id": "17023414-60c3-4fb2-8629-8fb40ccb2db7",
   "metadata": {},
   "outputs": [],
   "source": [
    "FUNC1_KIND=3\n",
    "def Func1(x):\n",
    "  #NOTE: Switch the function to be learned.\n",
    "  global FUNC1_KIND\n",
    "  if FUNC1_KIND==0:  return x\n",
    "  if FUNC1_KIND==1:  return 0.5*x**2\n",
    "  if FUNC1_KIND==2:  return 0.1*x**3\n",
    "  if FUNC1_KIND==3:  return 0.1*x**3-1.0*x\n",
    "\n",
    "FUNC2_KIND=3\n",
    "def Func2(x):\n",
    "  #NOTE: Switch the function to be learned.\n",
    "  global FUNC2_KIND\n",
    "  if FUNC2_KIND==0:  return x\n",
    "  if FUNC2_KIND==1:  return (x[:,0]**2).reshape((-1,1))\n",
    "  if FUNC2_KIND==2:  return (3.0-x[:,0]).reshape((-1,1))\n",
    "  if FUNC2_KIND==3:  return (x[:,0]+3.0*np.sin(x[:,0])).reshape((-1,1))\n",
    "  if FUNC2_KIND==4:  return np.where(x[:,0]**2<1.0, 3.0, 0.0).reshape((-1,1))\n",
    "\n",
    "def GenerateSample(xmin, xmax, N_sample, noise=1.0e-10):\n",
    "  data_x1= np.random.uniform(xmin,xmax,size=(N_sample,1))\n",
    "  data_x2= Func1(data_x1) + np.random.normal(scale=noise,size=(N_sample,1))\n",
    "  data_y= Func2(data_x2) + np.random.normal(scale=noise,size=(N_sample,1))\n",
    "  return data_x1,data_x2,data_y"
   ]
  },
  {
   "cell_type": "code",
   "execution_count": 3,
   "id": "dff89c85-3bf7-463c-83a5-1ad4d7463c79",
   "metadata": {},
   "outputs": [],
   "source": [
    "xmin,xmax= -5.0, 5.0\n",
    "N_sample= 2000\n",
    "#NOTE: Adjust the sample size and noise level.\n",
    "data_x1,data_x2,data_y= GenerateSample(xmin, xmax, N_sample, noise=0.1)\n",
    "#Convert data to torch variables.\n",
    "data_x1= torch.autograd.Variable(torch.from_numpy(data_x1).float())\n",
    "data_x2= torch.autograd.Variable(torch.from_numpy(data_x2).float())\n",
    "data_y= torch.autograd.Variable(torch.from_numpy(data_y).float())\n",
    "\n",
    "#NOTE: Adjust the batch and epoch sizes.\n",
    "N_batch= 50\n",
    "\n",
    "#Make torch dataset and loader.\n",
    "test_ratio= 0.2\n",
    "idxes= np.random.RandomState(seed=42).permutation(data_x1.shape[0])\n",
    "N_train= round(data_x1.shape[0]*(1.-test_ratio))\n",
    "dset_train= torch.utils.data.TensorDataset(data_x1[idxes[:N_train]], data_x2[idxes[:N_train]], data_y[idxes[:N_train]])\n",
    "dset_test= torch.utils.data.TensorDataset(data_x1[idxes[N_train:]], data_x2[idxes[N_train:]], data_y[idxes[N_train:]])\n",
    "# dl_train= torch.utils.data.DataLoader(\n",
    "#       dataset=dset_train,\n",
    "#       batch_size=N_batch,\n",
    "#       shuffle=True,\n",
    "#       num_workers=2)\n",
    "# dl_test= torch.utils.data.DataLoader(\n",
    "#       dataset=dset_train,\n",
    "#       batch_size=N_batch,\n",
    "#       shuffle=True,\n",
    "#       num_workers=2)\n",
    "#Create fastai dataloaders from torch dataloaders.\n",
    "dset_train.n_inp=1  #Trick to tell dataloaders that the numer of input is 1.\n",
    "dset_test.n_inp=1\n",
    "dls= fastai.data.core.DataLoaders.from_dsets(dset_train, dset_test, bs=N_batch) \n",
    "#, tfms=[[None],[None],[None]], n_inp=1, before_batch=lambda x:x)  #NOTE: n_inp"
   ]
  },
  {
   "cell_type": "code",
   "execution_count": 4,
   "id": "170c59fc-e204-42f2-ad71-f7d70e156be2",
   "metadata": {},
   "outputs": [],
   "source": [
    "# dls.summary()"
   ]
  },
  {
   "cell_type": "code",
   "execution_count": 5,
   "id": "c6ee0519-1d03-4a0d-abdc-fa1908fbacbb",
   "metadata": {},
   "outputs": [
    {
     "name": "stdout",
     "output_type": "stream",
     "text": [
      "1\n",
      "(tensor([[ 3.4038],\n",
      "        [-4.5539]]), tensor([[ 0.4462],\n",
      "        [-5.0740]]), tensor([[ 1.7203],\n",
      "        [-2.1260]]))\n",
      "Pipeline:  Pipeline:  Pipeline: \n"
     ]
    }
   ],
   "source": [
    "print(dls.n_inp)\n",
    "print(dls.train_ds[:2])\n",
    "print(dls.after_item, dls.before_batch, dls.after_batch)\n",
    "# dls.one_batch()\n",
    "# fastai.data.core.Datasets"
   ]
  },
  {
   "cell_type": "code",
   "execution_count": 6,
   "id": "80ee9ab8-9f43-43fe-badf-994aa5d4e552",
   "metadata": {},
   "outputs": [],
   "source": [
    "class TFCN1(torch.nn.Module):\n",
    "  def __init__(self, p_dropout=0.02):\n",
    "    super(TFCN1,self).__init__()\n",
    "    self.net_fc1= torch.nn.Sequential(\n",
    "          torch.nn.Linear(1, 100),\n",
    "          torch.nn.LeakyReLU(inplace=True),\n",
    "          torch.nn.Dropout(p=p_dropout),\n",
    "          torch.nn.Linear(100, 100),\n",
    "          torch.nn.LeakyReLU(inplace=True),\n",
    "          torch.nn.Dropout(p=p_dropout),\n",
    "          torch.nn.Linear(100, 1),\n",
    "          )\n",
    "    self.net_fc2= torch.nn.Sequential(\n",
    "          torch.nn.Linear(1, 200),\n",
    "          torch.nn.LeakyReLU(inplace=True),\n",
    "          torch.nn.Dropout(p=p_dropout),\n",
    "          torch.nn.Linear(200, 200),\n",
    "          torch.nn.LeakyReLU(inplace=True),\n",
    "          torch.nn.Dropout(p=p_dropout),\n",
    "          torch.nn.Linear(200, 200),\n",
    "          torch.nn.LeakyReLU(inplace=True),\n",
    "          torch.nn.Dropout(p=p_dropout),\n",
    "          torch.nn.Linear(200, 1),\n",
    "          )\n",
    "  def forward(self, x):\n",
    "    x2= self.net_fc1(x)\n",
    "    y= self.net_fc2(x2)\n",
    "    return x2,y"
   ]
  },
  {
   "cell_type": "code",
   "execution_count": 7,
   "id": "506ac2f4-3089-41ec-916e-03c7a42bbaa7",
   "metadata": {},
   "outputs": [],
   "source": [
    "net= TFCN1()"
   ]
  },
  {
   "cell_type": "code",
   "execution_count": 8,
   "id": "fcd398f1-4655-4054-9e29-91c8ee9c3e30",
   "metadata": {},
   "outputs": [],
   "source": [
    "#update_method= 'both'\n",
    "#update_method= 'only_y'\n",
    "update_method= 'delayed'\n",
    "i_delay= 20\n",
    "\n",
    "# def on_loss_begin(last_output, last_target, **kwargs):\n",
    "#     self.loss2 = loss_func2(last_output, last_target)\n",
    "\n",
    "# def on_backward_begin(loss, **kwargs):\n",
    "#     return loss + self.loss2\n",
    "\n",
    "def loss(output, *target, **kwargs):\n",
    "    print(f'debug <({type(output)}) {output}> <({type(target)}) {target}>',)\n",
    "    x2_out, y_out= output\n",
    "    x2_trg, y_trg= target\n",
    "    loss_x2= torch.nn.functional.mse_loss(x2_out, x2_trg)\n",
    "    loss_y= torch.nn.functional.mse_loss(y_out,y_trg)\n",
    "    return loss_x2 + loss_y\n",
    "\n",
    "def metric(output, *target, **kwargs):\n",
    "    x2_out, y_out= output\n",
    "    x2_trg, y_trg= target\n",
    "    loss_y= torch.nn.functional.mse_loss(y_out,y_trg)\n",
    "    return torch.sqrt(loss_y)\n",
    "\n",
    "fastai.vision.all.MSELossFlat()\n",
    "fastai.vision.all.rmse\n",
    "learn= fastai.vision.all.Learner(dls, net,  loss_func=loss, metrics=metric)"
   ]
  },
  {
   "cell_type": "markdown",
   "id": "1b638fe9-102a-497c-8193-937bad3abd7b",
   "metadata": {},
   "source": [
    "## NOTE\n",
    "When the network returns multiple outputs, using Learner.predict is not good since it outputs only the fast element of the prediction.\n",
    "\n",
    "```\n",
    "def predict(self, item, rm_type_tfms=None, with_input=False):\n",
    "    dl = self.dls.test_dl([item], rm_type_tfms=rm_type_tfms, num_workers=0)\n",
    "    inp,preds,_,dec_preds = self.get_preds(dl=dl, with_input=True, with_decoded=True)\n",
    "    ...\n",
    "    res = dec_targ,dec_preds[0],preds[0]    #<----------HERE!\n",
    "    if with_input: res = (dec_inp,) + res\n",
    "    return res\n",
    "```"
   ]
  },
  {
   "cell_type": "code",
   "execution_count": 13,
   "id": "ee75eb16-f9bf-4d7d-9cbf-62f3c9ae0d8c",
   "metadata": {},
   "outputs": [
    {
     "name": "stdout",
     "output_type": "stream",
     "text": [
      "x=tensor([[0.3151]])\n",
      "  learn.get_preds(x)=(tensor([[-0.0609]]), tensor([[-0.0849]]))\n",
      "  net(x)=(tensor([[-0.0609]]), tensor([[-0.0849]]))\n",
      "\n",
      "x=tensor([[ 1.7294],\n",
      "        [ 2.1766],\n",
      "        [-1.5137]])\n",
      "  net(x)=(tensor([[ 0.0647],\n",
      "        [ 0.1126],\n",
      "        [-0.1815]]), tensor([[-0.0849],\n",
      "        [-0.0844],\n",
      "        [-0.0819]]))\n"
     ]
    }
   ],
   "source": [
    "x= torch.from_numpy(np.random.uniform(xmin,xmax,size=(1,1))).float()\n",
    "print(f'x={x}')\n",
    "# with learn.no_bar(): print(f'  learn.predict(x)={learn.predict(x)}')\n",
    "with learn.no_bar(): print(f'  learn.get_preds(x)={learn.get_preds(dl=learn.dls.test_dl([x]))[0]}')\n",
    "net.eval()\n",
    "with torch.no_grad(): print(f'  net(x)={net(x)}')\n",
    "print()\n",
    "\n",
    "x= torch.from_numpy(np.random.uniform(xmin,xmax,size=(3,1))).float()\n",
    "print(f'x={x}')\n",
    "# with learn.no_bar(): print(f'  learn.predict(x)={learn.predict((x,torch.zeros(x.shape[0])))[1]}')\n",
    "# with learn.no_bar(): print(f'  learn.get_preds(x)={learn.get_preds(dl=learn.dls.test_dl((x,torch.zeros(x.shape[0]))))}')\n",
    "net.eval()\n",
    "with torch.no_grad(): print(f'  net(x)={net(x)}')"
   ]
  },
  {
   "cell_type": "code",
   "execution_count": 14,
   "id": "a6b7f7af-8372-4f3f-8833-98d26806631b",
   "metadata": {},
   "outputs": [
    {
     "name": "stdout",
     "output_type": "stream",
     "text": [
      "x=tensor([[4.9796]])\n"
     ]
    },
    {
     "data": {
      "text/html": [],
      "text/plain": [
       "<IPython.core.display.HTML object>"
      ]
     },
     "metadata": {},
     "output_type": "display_data"
    },
    {
     "name": "stdout",
     "output_type": "stream",
     "text": [
      "  learn.predict(x)=((tensor([0.2936]), tensor([-0.0821])), tensor([[0.2936]]), tensor([[0.2936]]))\n"
     ]
    },
    {
     "data": {
      "text/html": [],
      "text/plain": [
       "<IPython.core.display.HTML object>"
      ]
     },
     "metadata": {},
     "output_type": "display_data"
    },
    {
     "name": "stdout",
     "output_type": "stream",
     "text": [
      "  learn.get_preds(x)=((tensor([[0.2936]]), tensor([[-0.0821]])), None)\n"
     ]
    }
   ],
   "source": [
    "x= torch.from_numpy(np.random.uniform(xmin,xmax,size=(1,1))).float()\n",
    "print(f'x={x}')\n",
    "print(f'  learn.predict(x)={learn.predict(x)}')\n",
    "print(f'  learn.get_preds(x)={learn.get_preds(dl=learn.dls.test_dl([x]))}')  #, with_input=True, with_decoded=True"
   ]
  },
  {
   "cell_type": "code",
   "execution_count": 24,
   "id": "2f2aaf8b-afa6-4b02-9dcc-f942d0e3c399",
   "metadata": {},
   "outputs": [
    {
     "data": {
      "text/html": [],
      "text/plain": [
       "<IPython.core.display.HTML object>"
      ]
     },
     "metadata": {},
     "output_type": "display_data"
    },
    {
     "name": "stdout",
     "output_type": "stream",
     "text": [
      "debug <(<class 'tuple'>) (tensor([-0.3740]), tensor([-0.0763]))> <(<class 'tuple'>) (tensor([2.4566]), tensor([-1.7406]))>\n"
     ]
    },
    {
     "ename": "IndexError",
     "evalue": "index 1 is out of bounds for dimension 0 with size 1",
     "output_type": "error",
     "traceback": [
      "\u001b[0;31m---------------------------------------------------------------------------\u001b[0m",
      "\u001b[0;31mIndexError\u001b[0m                                Traceback (most recent call last)",
      "\u001b[0;32m<ipython-input-24-29037410f6f1>\u001b[0m in \u001b[0;36m<module>\u001b[0;34m\u001b[0m\n\u001b[1;32m      2\u001b[0m \u001b[0m_dl\u001b[0m\u001b[0;34m=\u001b[0m \u001b[0mlearn\u001b[0m\u001b[0;34m.\u001b[0m\u001b[0mdls\u001b[0m\u001b[0;34m.\u001b[0m\u001b[0mtest_dl\u001b[0m\u001b[0;34m(\u001b[0m\u001b[0mx\u001b[0m\u001b[0;34m,\u001b[0m\u001b[0mtorch\u001b[0m\u001b[0;34m.\u001b[0m\u001b[0mzeros\u001b[0m\u001b[0;34m(\u001b[0m\u001b[0;34m(\u001b[0m\u001b[0mx\u001b[0m\u001b[0;34m.\u001b[0m\u001b[0mshape\u001b[0m\u001b[0;34m[\u001b[0m\u001b[0;36m0\u001b[0m\u001b[0;34m]\u001b[0m\u001b[0;34m,\u001b[0m\u001b[0;36m1\u001b[0m\u001b[0;34m)\u001b[0m\u001b[0;34m)\u001b[0m\u001b[0;34m,\u001b[0m\u001b[0mtorch\u001b[0m\u001b[0;34m.\u001b[0m\u001b[0mzeros\u001b[0m\u001b[0;34m(\u001b[0m\u001b[0;34m(\u001b[0m\u001b[0mx\u001b[0m\u001b[0;34m.\u001b[0m\u001b[0mshape\u001b[0m\u001b[0;34m[\u001b[0m\u001b[0;36m0\u001b[0m\u001b[0;34m]\u001b[0m\u001b[0;34m,\u001b[0m\u001b[0;36m1\u001b[0m\u001b[0;34m)\u001b[0m\u001b[0;34m)\u001b[0m\u001b[0;34m)\u001b[0m\u001b[0;34m\u001b[0m\u001b[0;34m\u001b[0m\u001b[0m\n\u001b[1;32m      3\u001b[0m \u001b[0;31m# learn.predict([x])[0]\u001b[0m\u001b[0;34m\u001b[0m\u001b[0;34m\u001b[0m\u001b[0;34m\u001b[0m\u001b[0m\n\u001b[0;32m----> 4\u001b[0;31m \u001b[0mlearn\u001b[0m\u001b[0;34m.\u001b[0m\u001b[0mget_preds\u001b[0m\u001b[0;34m(\u001b[0m\u001b[0mdl\u001b[0m\u001b[0;34m=\u001b[0m\u001b[0m_dl\u001b[0m\u001b[0;34m)\u001b[0m\u001b[0;34m\u001b[0m\u001b[0;34m\u001b[0m\u001b[0m\n\u001b[0m\u001b[1;32m      5\u001b[0m \u001b[0;31m# learn.dls.n_inp, dls.n_inp\u001b[0m\u001b[0;34m\u001b[0m\u001b[0;34m\u001b[0m\u001b[0;34m\u001b[0m\u001b[0m\n",
      "\u001b[0;32m~/.local/lib/python3.6/site-packages/fastai/learner.py\u001b[0m in \u001b[0;36mget_preds\u001b[0;34m(self, ds_idx, dl, with_input, with_decoded, with_loss, act, inner, reorder, cbs, **kwargs)\u001b[0m\n\u001b[1;32m    258\u001b[0m                 \u001b[0mres\u001b[0m\u001b[0;34m[\u001b[0m\u001b[0mpred_i\u001b[0m\u001b[0;34m]\u001b[0m \u001b[0;34m=\u001b[0m \u001b[0mact\u001b[0m\u001b[0;34m(\u001b[0m\u001b[0mres\u001b[0m\u001b[0;34m[\u001b[0m\u001b[0mpred_i\u001b[0m\u001b[0;34m]\u001b[0m\u001b[0;34m)\u001b[0m\u001b[0;34m\u001b[0m\u001b[0;34m\u001b[0m\u001b[0m\n\u001b[1;32m    259\u001b[0m                 \u001b[0;32mif\u001b[0m \u001b[0mwith_decoded\u001b[0m\u001b[0;34m:\u001b[0m \u001b[0mres\u001b[0m\u001b[0;34m.\u001b[0m\u001b[0minsert\u001b[0m\u001b[0;34m(\u001b[0m\u001b[0mpred_i\u001b[0m\u001b[0;34m+\u001b[0m\u001b[0;36m2\u001b[0m\u001b[0;34m,\u001b[0m \u001b[0mgetattr\u001b[0m\u001b[0;34m(\u001b[0m\u001b[0mself\u001b[0m\u001b[0;34m.\u001b[0m\u001b[0mloss_func\u001b[0m\u001b[0;34m,\u001b[0m \u001b[0;34m'decodes'\u001b[0m\u001b[0;34m,\u001b[0m \u001b[0mnoop\u001b[0m\u001b[0;34m)\u001b[0m\u001b[0;34m(\u001b[0m\u001b[0mres\u001b[0m\u001b[0;34m[\u001b[0m\u001b[0mpred_i\u001b[0m\u001b[0;34m]\u001b[0m\u001b[0;34m)\u001b[0m\u001b[0;34m)\u001b[0m\u001b[0;34m\u001b[0m\u001b[0;34m\u001b[0m\u001b[0m\n\u001b[0;32m--> 260\u001b[0;31m             \u001b[0;32mif\u001b[0m \u001b[0mreorder\u001b[0m \u001b[0;32mand\u001b[0m \u001b[0mhasattr\u001b[0m\u001b[0;34m(\u001b[0m\u001b[0mdl\u001b[0m\u001b[0;34m,\u001b[0m \u001b[0;34m'get_idxs'\u001b[0m\u001b[0;34m)\u001b[0m\u001b[0;34m:\u001b[0m \u001b[0mres\u001b[0m \u001b[0;34m=\u001b[0m \u001b[0mnested_reorder\u001b[0m\u001b[0;34m(\u001b[0m\u001b[0mres\u001b[0m\u001b[0;34m,\u001b[0m \u001b[0mtensor\u001b[0m\u001b[0;34m(\u001b[0m\u001b[0midxs\u001b[0m\u001b[0;34m)\u001b[0m\u001b[0;34m.\u001b[0m\u001b[0margsort\u001b[0m\u001b[0;34m(\u001b[0m\u001b[0;34m)\u001b[0m\u001b[0;34m)\u001b[0m\u001b[0;34m\u001b[0m\u001b[0;34m\u001b[0m\u001b[0m\n\u001b[0m\u001b[1;32m    261\u001b[0m             \u001b[0;32mreturn\u001b[0m \u001b[0mtuple\u001b[0m\u001b[0;34m(\u001b[0m\u001b[0mres\u001b[0m\u001b[0;34m)\u001b[0m\u001b[0;34m\u001b[0m\u001b[0;34m\u001b[0m\u001b[0m\n\u001b[1;32m    262\u001b[0m         \u001b[0mself\u001b[0m\u001b[0;34m.\u001b[0m\u001b[0m_end_cleanup\u001b[0m\u001b[0;34m(\u001b[0m\u001b[0;34m)\u001b[0m\u001b[0;34m\u001b[0m\u001b[0;34m\u001b[0m\u001b[0m\n",
      "\u001b[0;32m~/.local/lib/python3.6/site-packages/fastai/torch_core.py\u001b[0m in \u001b[0;36mnested_reorder\u001b[0;34m(t, idxs)\u001b[0m\n\u001b[1;32m    712\u001b[0m     \u001b[0;34m\"Reorder all tensors in `t` using `idxs`\"\u001b[0m\u001b[0;34m\u001b[0m\u001b[0;34m\u001b[0m\u001b[0m\n\u001b[1;32m    713\u001b[0m     \u001b[0;32mif\u001b[0m \u001b[0misinstance\u001b[0m\u001b[0;34m(\u001b[0m\u001b[0mt\u001b[0m\u001b[0;34m,\u001b[0m \u001b[0;34m(\u001b[0m\u001b[0mTensor\u001b[0m\u001b[0;34m,\u001b[0m\u001b[0mL\u001b[0m\u001b[0;34m)\u001b[0m\u001b[0;34m)\u001b[0m\u001b[0;34m:\u001b[0m \u001b[0;32mreturn\u001b[0m \u001b[0mt\u001b[0m\u001b[0;34m[\u001b[0m\u001b[0midxs\u001b[0m\u001b[0;34m]\u001b[0m\u001b[0;34m\u001b[0m\u001b[0;34m\u001b[0m\u001b[0m\n\u001b[0;32m--> 714\u001b[0;31m     \u001b[0;32melif\u001b[0m \u001b[0mis_listy\u001b[0m\u001b[0;34m(\u001b[0m\u001b[0mt\u001b[0m\u001b[0;34m)\u001b[0m\u001b[0;34m:\u001b[0m \u001b[0;32mreturn\u001b[0m \u001b[0mtype\u001b[0m\u001b[0;34m(\u001b[0m\u001b[0mt\u001b[0m\u001b[0;34m)\u001b[0m\u001b[0;34m(\u001b[0m\u001b[0mnested_reorder\u001b[0m\u001b[0;34m(\u001b[0m\u001b[0mt_\u001b[0m\u001b[0;34m,\u001b[0m \u001b[0midxs\u001b[0m\u001b[0;34m)\u001b[0m \u001b[0;32mfor\u001b[0m \u001b[0mt_\u001b[0m \u001b[0;32min\u001b[0m \u001b[0mt\u001b[0m\u001b[0;34m)\u001b[0m\u001b[0;34m\u001b[0m\u001b[0;34m\u001b[0m\u001b[0m\n\u001b[0m\u001b[1;32m    715\u001b[0m     \u001b[0;32mif\u001b[0m \u001b[0mt\u001b[0m \u001b[0;32mis\u001b[0m \u001b[0;32mNone\u001b[0m\u001b[0;34m:\u001b[0m \u001b[0;32mreturn\u001b[0m \u001b[0mt\u001b[0m\u001b[0;34m\u001b[0m\u001b[0;34m\u001b[0m\u001b[0m\n\u001b[1;32m    716\u001b[0m     \u001b[0;32mraise\u001b[0m \u001b[0mTypeError\u001b[0m\u001b[0;34m(\u001b[0m\u001b[0;34mf\"Expected tensor, tuple, list or L but got {type(t)}\"\u001b[0m\u001b[0;34m)\u001b[0m\u001b[0;34m\u001b[0m\u001b[0;34m\u001b[0m\u001b[0m\n",
      "\u001b[0;32m~/.local/lib/python3.6/site-packages/fastai/torch_core.py\u001b[0m in \u001b[0;36m<genexpr>\u001b[0;34m(.0)\u001b[0m\n\u001b[1;32m    712\u001b[0m     \u001b[0;34m\"Reorder all tensors in `t` using `idxs`\"\u001b[0m\u001b[0;34m\u001b[0m\u001b[0;34m\u001b[0m\u001b[0m\n\u001b[1;32m    713\u001b[0m     \u001b[0;32mif\u001b[0m \u001b[0misinstance\u001b[0m\u001b[0;34m(\u001b[0m\u001b[0mt\u001b[0m\u001b[0;34m,\u001b[0m \u001b[0;34m(\u001b[0m\u001b[0mTensor\u001b[0m\u001b[0;34m,\u001b[0m\u001b[0mL\u001b[0m\u001b[0;34m)\u001b[0m\u001b[0;34m)\u001b[0m\u001b[0;34m:\u001b[0m \u001b[0;32mreturn\u001b[0m \u001b[0mt\u001b[0m\u001b[0;34m[\u001b[0m\u001b[0midxs\u001b[0m\u001b[0;34m]\u001b[0m\u001b[0;34m\u001b[0m\u001b[0;34m\u001b[0m\u001b[0m\n\u001b[0;32m--> 714\u001b[0;31m     \u001b[0;32melif\u001b[0m \u001b[0mis_listy\u001b[0m\u001b[0;34m(\u001b[0m\u001b[0mt\u001b[0m\u001b[0;34m)\u001b[0m\u001b[0;34m:\u001b[0m \u001b[0;32mreturn\u001b[0m \u001b[0mtype\u001b[0m\u001b[0;34m(\u001b[0m\u001b[0mt\u001b[0m\u001b[0;34m)\u001b[0m\u001b[0;34m(\u001b[0m\u001b[0mnested_reorder\u001b[0m\u001b[0;34m(\u001b[0m\u001b[0mt_\u001b[0m\u001b[0;34m,\u001b[0m \u001b[0midxs\u001b[0m\u001b[0;34m)\u001b[0m \u001b[0;32mfor\u001b[0m \u001b[0mt_\u001b[0m \u001b[0;32min\u001b[0m \u001b[0mt\u001b[0m\u001b[0;34m)\u001b[0m\u001b[0;34m\u001b[0m\u001b[0;34m\u001b[0m\u001b[0m\n\u001b[0m\u001b[1;32m    715\u001b[0m     \u001b[0;32mif\u001b[0m \u001b[0mt\u001b[0m \u001b[0;32mis\u001b[0m \u001b[0;32mNone\u001b[0m\u001b[0;34m:\u001b[0m \u001b[0;32mreturn\u001b[0m \u001b[0mt\u001b[0m\u001b[0;34m\u001b[0m\u001b[0;34m\u001b[0m\u001b[0m\n\u001b[1;32m    716\u001b[0m     \u001b[0;32mraise\u001b[0m \u001b[0mTypeError\u001b[0m\u001b[0;34m(\u001b[0m\u001b[0;34mf\"Expected tensor, tuple, list or L but got {type(t)}\"\u001b[0m\u001b[0;34m)\u001b[0m\u001b[0;34m\u001b[0m\u001b[0;34m\u001b[0m\u001b[0m\n",
      "\u001b[0;32m~/.local/lib/python3.6/site-packages/fastai/torch_core.py\u001b[0m in \u001b[0;36mnested_reorder\u001b[0;34m(t, idxs)\u001b[0m\n\u001b[1;32m    712\u001b[0m     \u001b[0;34m\"Reorder all tensors in `t` using `idxs`\"\u001b[0m\u001b[0;34m\u001b[0m\u001b[0;34m\u001b[0m\u001b[0m\n\u001b[1;32m    713\u001b[0m     \u001b[0;32mif\u001b[0m \u001b[0misinstance\u001b[0m\u001b[0;34m(\u001b[0m\u001b[0mt\u001b[0m\u001b[0;34m,\u001b[0m \u001b[0;34m(\u001b[0m\u001b[0mTensor\u001b[0m\u001b[0;34m,\u001b[0m\u001b[0mL\u001b[0m\u001b[0;34m)\u001b[0m\u001b[0;34m)\u001b[0m\u001b[0;34m:\u001b[0m \u001b[0;32mreturn\u001b[0m \u001b[0mt\u001b[0m\u001b[0;34m[\u001b[0m\u001b[0midxs\u001b[0m\u001b[0;34m]\u001b[0m\u001b[0;34m\u001b[0m\u001b[0;34m\u001b[0m\u001b[0m\n\u001b[0;32m--> 714\u001b[0;31m     \u001b[0;32melif\u001b[0m \u001b[0mis_listy\u001b[0m\u001b[0;34m(\u001b[0m\u001b[0mt\u001b[0m\u001b[0;34m)\u001b[0m\u001b[0;34m:\u001b[0m \u001b[0;32mreturn\u001b[0m \u001b[0mtype\u001b[0m\u001b[0;34m(\u001b[0m\u001b[0mt\u001b[0m\u001b[0;34m)\u001b[0m\u001b[0;34m(\u001b[0m\u001b[0mnested_reorder\u001b[0m\u001b[0;34m(\u001b[0m\u001b[0mt_\u001b[0m\u001b[0;34m,\u001b[0m \u001b[0midxs\u001b[0m\u001b[0;34m)\u001b[0m \u001b[0;32mfor\u001b[0m \u001b[0mt_\u001b[0m \u001b[0;32min\u001b[0m \u001b[0mt\u001b[0m\u001b[0;34m)\u001b[0m\u001b[0;34m\u001b[0m\u001b[0;34m\u001b[0m\u001b[0m\n\u001b[0m\u001b[1;32m    715\u001b[0m     \u001b[0;32mif\u001b[0m \u001b[0mt\u001b[0m \u001b[0;32mis\u001b[0m \u001b[0;32mNone\u001b[0m\u001b[0;34m:\u001b[0m \u001b[0;32mreturn\u001b[0m \u001b[0mt\u001b[0m\u001b[0;34m\u001b[0m\u001b[0;34m\u001b[0m\u001b[0m\n\u001b[1;32m    716\u001b[0m     \u001b[0;32mraise\u001b[0m \u001b[0mTypeError\u001b[0m\u001b[0;34m(\u001b[0m\u001b[0;34mf\"Expected tensor, tuple, list or L but got {type(t)}\"\u001b[0m\u001b[0;34m)\u001b[0m\u001b[0;34m\u001b[0m\u001b[0;34m\u001b[0m\u001b[0m\n",
      "\u001b[0;32m~/.local/lib/python3.6/site-packages/fastai/torch_core.py\u001b[0m in \u001b[0;36m<genexpr>\u001b[0;34m(.0)\u001b[0m\n\u001b[1;32m    712\u001b[0m     \u001b[0;34m\"Reorder all tensors in `t` using `idxs`\"\u001b[0m\u001b[0;34m\u001b[0m\u001b[0;34m\u001b[0m\u001b[0m\n\u001b[1;32m    713\u001b[0m     \u001b[0;32mif\u001b[0m \u001b[0misinstance\u001b[0m\u001b[0;34m(\u001b[0m\u001b[0mt\u001b[0m\u001b[0;34m,\u001b[0m \u001b[0;34m(\u001b[0m\u001b[0mTensor\u001b[0m\u001b[0;34m,\u001b[0m\u001b[0mL\u001b[0m\u001b[0;34m)\u001b[0m\u001b[0;34m)\u001b[0m\u001b[0;34m:\u001b[0m \u001b[0;32mreturn\u001b[0m \u001b[0mt\u001b[0m\u001b[0;34m[\u001b[0m\u001b[0midxs\u001b[0m\u001b[0;34m]\u001b[0m\u001b[0;34m\u001b[0m\u001b[0;34m\u001b[0m\u001b[0m\n\u001b[0;32m--> 714\u001b[0;31m     \u001b[0;32melif\u001b[0m \u001b[0mis_listy\u001b[0m\u001b[0;34m(\u001b[0m\u001b[0mt\u001b[0m\u001b[0;34m)\u001b[0m\u001b[0;34m:\u001b[0m \u001b[0;32mreturn\u001b[0m \u001b[0mtype\u001b[0m\u001b[0;34m(\u001b[0m\u001b[0mt\u001b[0m\u001b[0;34m)\u001b[0m\u001b[0;34m(\u001b[0m\u001b[0mnested_reorder\u001b[0m\u001b[0;34m(\u001b[0m\u001b[0mt_\u001b[0m\u001b[0;34m,\u001b[0m \u001b[0midxs\u001b[0m\u001b[0;34m)\u001b[0m \u001b[0;32mfor\u001b[0m \u001b[0mt_\u001b[0m \u001b[0;32min\u001b[0m \u001b[0mt\u001b[0m\u001b[0;34m)\u001b[0m\u001b[0;34m\u001b[0m\u001b[0;34m\u001b[0m\u001b[0m\n\u001b[0m\u001b[1;32m    715\u001b[0m     \u001b[0;32mif\u001b[0m \u001b[0mt\u001b[0m \u001b[0;32mis\u001b[0m \u001b[0;32mNone\u001b[0m\u001b[0;34m:\u001b[0m \u001b[0;32mreturn\u001b[0m \u001b[0mt\u001b[0m\u001b[0;34m\u001b[0m\u001b[0;34m\u001b[0m\u001b[0m\n\u001b[1;32m    716\u001b[0m     \u001b[0;32mraise\u001b[0m \u001b[0mTypeError\u001b[0m\u001b[0;34m(\u001b[0m\u001b[0;34mf\"Expected tensor, tuple, list or L but got {type(t)}\"\u001b[0m\u001b[0;34m)\u001b[0m\u001b[0;34m\u001b[0m\u001b[0;34m\u001b[0m\u001b[0m\n",
      "\u001b[0;32m~/.local/lib/python3.6/site-packages/fastai/torch_core.py\u001b[0m in \u001b[0;36mnested_reorder\u001b[0;34m(t, idxs)\u001b[0m\n\u001b[1;32m    711\u001b[0m \u001b[0;32mdef\u001b[0m \u001b[0mnested_reorder\u001b[0m\u001b[0;34m(\u001b[0m\u001b[0mt\u001b[0m\u001b[0;34m,\u001b[0m \u001b[0midxs\u001b[0m\u001b[0;34m)\u001b[0m\u001b[0;34m:\u001b[0m\u001b[0;34m\u001b[0m\u001b[0;34m\u001b[0m\u001b[0m\n\u001b[1;32m    712\u001b[0m     \u001b[0;34m\"Reorder all tensors in `t` using `idxs`\"\u001b[0m\u001b[0;34m\u001b[0m\u001b[0;34m\u001b[0m\u001b[0m\n\u001b[0;32m--> 713\u001b[0;31m     \u001b[0;32mif\u001b[0m \u001b[0misinstance\u001b[0m\u001b[0;34m(\u001b[0m\u001b[0mt\u001b[0m\u001b[0;34m,\u001b[0m \u001b[0;34m(\u001b[0m\u001b[0mTensor\u001b[0m\u001b[0;34m,\u001b[0m\u001b[0mL\u001b[0m\u001b[0;34m)\u001b[0m\u001b[0;34m)\u001b[0m\u001b[0;34m:\u001b[0m \u001b[0;32mreturn\u001b[0m \u001b[0mt\u001b[0m\u001b[0;34m[\u001b[0m\u001b[0midxs\u001b[0m\u001b[0;34m]\u001b[0m\u001b[0;34m\u001b[0m\u001b[0;34m\u001b[0m\u001b[0m\n\u001b[0m\u001b[1;32m    714\u001b[0m     \u001b[0;32melif\u001b[0m \u001b[0mis_listy\u001b[0m\u001b[0;34m(\u001b[0m\u001b[0mt\u001b[0m\u001b[0;34m)\u001b[0m\u001b[0;34m:\u001b[0m \u001b[0;32mreturn\u001b[0m \u001b[0mtype\u001b[0m\u001b[0;34m(\u001b[0m\u001b[0mt\u001b[0m\u001b[0;34m)\u001b[0m\u001b[0;34m(\u001b[0m\u001b[0mnested_reorder\u001b[0m\u001b[0;34m(\u001b[0m\u001b[0mt_\u001b[0m\u001b[0;34m,\u001b[0m \u001b[0midxs\u001b[0m\u001b[0;34m)\u001b[0m \u001b[0;32mfor\u001b[0m \u001b[0mt_\u001b[0m \u001b[0;32min\u001b[0m \u001b[0mt\u001b[0m\u001b[0;34m)\u001b[0m\u001b[0;34m\u001b[0m\u001b[0;34m\u001b[0m\u001b[0m\n\u001b[1;32m    715\u001b[0m     \u001b[0;32mif\u001b[0m \u001b[0mt\u001b[0m \u001b[0;32mis\u001b[0m \u001b[0;32mNone\u001b[0m\u001b[0;34m:\u001b[0m \u001b[0;32mreturn\u001b[0m \u001b[0mt\u001b[0m\u001b[0;34m\u001b[0m\u001b[0;34m\u001b[0m\u001b[0m\n",
      "\u001b[0;31mIndexError\u001b[0m: index 1 is out of bounds for dimension 0 with size 1"
     ]
    }
   ],
   "source": [
    "x= torch.from_numpy(np.random.uniform(xmin,xmax,size=(3,1))).float()\n",
    "_dl= learn.dls.test_dl(x,torch.zeros((x.shape[0],1)),torch.zeros((x.shape[0],1)))\n",
    "# learn.predict([x])[0]\n",
    "learn.get_preds(dl=_dl)\n",
    "# learn.dls.n_inp, dls.n_inp"
   ]
  },
  {
   "cell_type": "code",
   "execution_count": 12,
   "id": "ab37aa48-c8f5-4edf-9d5f-aaaf2d27eaee",
   "metadata": {},
   "outputs": [
    {
     "data": {
      "text/html": [],
      "text/plain": [
       "<IPython.core.display.HTML object>"
      ]
     },
     "metadata": {},
     "output_type": "display_data"
    },
    {
     "data": {
      "text/plain": [
       "TFCN1 (Input shape: 50)\n",
       "============================================================================\n",
       "Layer (type)         Output Shape         Param #    Trainable \n",
       "============================================================================\n",
       "                     50 x 100            \n",
       "Linear                                    200        True      \n",
       "LeakyReLU                                                      \n",
       "Dropout                                                        \n",
       "Linear                                    10100      True      \n",
       "LeakyReLU                                                      \n",
       "Dropout                                                        \n",
       "____________________________________________________________________________\n",
       "                     50 x 1              \n",
       "Linear                                    101        True      \n",
       "____________________________________________________________________________\n",
       "                     50 x 200            \n",
       "Linear                                    400        True      \n",
       "LeakyReLU                                                      \n",
       "Dropout                                                        \n",
       "Linear                                    40200      True      \n",
       "LeakyReLU                                                      \n",
       "Dropout                                                        \n",
       "Linear                                    40200      True      \n",
       "LeakyReLU                                                      \n",
       "Dropout                                                        \n",
       "____________________________________________________________________________\n",
       "                     50 x 1              \n",
       "Linear                                    201        True      \n",
       "____________________________________________________________________________\n",
       "\n",
       "Total params: 91,402\n",
       "Total trainable params: 91,402\n",
       "Total non-trainable params: 0\n",
       "\n",
       "Optimizer used: <function Adam at 0x7f66ac6f9598>\n",
       "Loss function: <function loss at 0x7f66ac2afe18>\n",
       "\n",
       "Callbacks:\n",
       "  - TrainEvalCallback\n",
       "  - Recorder\n",
       "  - ProgressCallback"
      ]
     },
     "execution_count": 12,
     "metadata": {},
     "output_type": "execute_result"
    }
   ],
   "source": [
    "learn.summary()"
   ]
  },
  {
   "cell_type": "code",
   "execution_count": null,
   "id": "cfacaab2-bec5-4e9b-9c60-3fe6efed4449",
   "metadata": {},
   "outputs": [],
   "source": []
  }
 ],
 "metadata": {
  "kernelspec": {
   "display_name": "Python 3",
   "language": "python",
   "name": "python3"
  },
  "language_info": {
   "codemirror_mode": {
    "name": "ipython",
    "version": 3
   },
   "file_extension": ".py",
   "mimetype": "text/x-python",
   "name": "python",
   "nbconvert_exporter": "python",
   "pygments_lexer": "ipython3",
   "version": "3.6.9"
  }
 },
 "nbformat": 4,
 "nbformat_minor": 5
}
