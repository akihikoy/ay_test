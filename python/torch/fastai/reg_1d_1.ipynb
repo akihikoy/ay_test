{
 "cells": [
  {
   "cell_type": "code",
   "execution_count": 30,
   "id": "09d7df6c-4a3e-4863-9a36-9fb90b6e5615",
   "metadata": {},
   "outputs": [],
   "source": [
    "import fastai.vision.all\n",
    "import numpy as np\n",
    "import torch\n",
    "import torchvision\n",
    "import matplotlib.pyplot as plt\n",
    "import mpl_toolkits.mplot3d\n",
    "import time"
   ]
  },
  {
   "cell_type": "code",
   "execution_count": 31,
   "id": "79efc146-fa2c-418b-8de9-1870c334a73a",
   "metadata": {},
   "outputs": [],
   "source": [
    "FUNC_KIND=3\n",
    "def Func(x):\n",
    "  #NOTE: Switch the function to be learned.\n",
    "  global FUNC_KIND\n",
    "  if FUNC_KIND==0:  return x\n",
    "  if FUNC_KIND==1:  return (x[:,0]**2).reshape((-1,1))\n",
    "  if FUNC_KIND==2:  return (3.0-x[:,0]).reshape((-1,1))\n",
    "  if FUNC_KIND==3:  return (x[:,0]+3.0*np.sin(x[:,0])).reshape((-1,1))\n",
    "  if FUNC_KIND==4:  return np.where(x[:,0]**2<1.0, 3.0, 0.0).reshape((-1,1))\n",
    "\n",
    "def GenerateSample(xmin, xmax, N_sample, f, noise=1.0e-10):\n",
    "  data_x= np.random.uniform(xmin,xmax,size=(N_sample,1))\n",
    "  data_y= f(data_x) + np.random.normal(scale=noise,size=(N_sample,1))\n",
    "  return data_x,data_y"
   ]
  },
  {
   "cell_type": "code",
   "execution_count": 32,
   "id": "8961d598-c084-4195-9190-716538b84535",
   "metadata": {},
   "outputs": [],
   "source": [
    "xmin,xmax= -5.0, 5.0\n",
    "N_sample= 200\n",
    "#NOTE: Adjust the sample size and noise level.\n",
    "data_x,data_y= GenerateSample(xmin, xmax, N_sample, Func, noise=0.5)\n",
    "#Convert data to torch variables.\n",
    "data_x= torch.autograd.Variable(torch.from_numpy(data_x).float())\n",
    "data_y= torch.autograd.Variable(torch.from_numpy(data_y).float())\n",
    "\n",
    "#NOTE: Adjust the batch and epoch sizes.\n",
    "N_batch= 50\n",
    "\n",
    "#Make torch dataset and loader.\n",
    "test_ratio= 0.2\n",
    "idxes= np.random.RandomState(seed=42).permutation(data_x.shape[0])\n",
    "N_train= round(data_x.shape[0]*(1.-test_ratio))\n",
    "dset_train= torch.utils.data.TensorDataset(data_x[idxes[:N_train]], data_y[idxes[:N_train]])\n",
    "dset_test= torch.utils.data.TensorDataset(data_x[idxes[N_train:]], data_y[idxes[N_train:]])\n",
    "# dl_train= torch.utils.data.DataLoader(\n",
    "#       dataset=dset_train,\n",
    "#       batch_size=N_batch,\n",
    "#       shuffle=True,\n",
    "#       num_workers=2)\n",
    "# dl_test= torch.utils.data.DataLoader(\n",
    "#       dataset=dset_train,\n",
    "#       batch_size=N_batch,\n",
    "#       shuffle=True,\n",
    "#       num_workers=2)\n",
    "#Create fastai dataloaders from torch dataloaders.\n",
    "dls= fastai.data.core.DataLoaders.from_dsets(dset_train, dset_test, bs=N_batch)"
   ]
  },
  {
   "cell_type": "code",
   "execution_count": 33,
   "id": "6dc38dc3-9c90-4f3b-81f5-5ecc0abad8d0",
   "metadata": {},
   "outputs": [],
   "source": [
    "class TRegNN1(torch.nn.Module):\n",
    "  def __init__(self):\n",
    "    super(TRegNN1,self).__init__()\n",
    "    self.lin1= torch.nn.Linear(in_features=1, out_features=1, bias=True)\n",
    "  def forward(self, x):\n",
    "    x= self.lin1(x)\n",
    "    return x\n",
    "\n",
    "def DefRegNN2():\n",
    "  return torch.nn.Sequential(\n",
    "          torch.nn.Linear(1, 200),\n",
    "          torch.nn.LeakyReLU(),\n",
    "          torch.nn.Linear(200, 100),\n",
    "          torch.nn.LeakyReLU(),\n",
    "          torch.nn.Linear(100, 1),\n",
    "          )\n",
    "\n",
    "def DefRegNN3():\n",
    "  return torch.nn.Sequential(\n",
    "          torch.nn.Linear(1, 200),\n",
    "          torch.nn.ReLU(),\n",
    "          torch.nn.Linear(200, 1),\n",
    "          )\n",
    "\n",
    "def DefRegNN4():\n",
    "  return torch.nn.Sequential(\n",
    "          torch.nn.Linear(1, 200),\n",
    "          torch.nn.ReLU(),\n",
    "          torch.nn.Linear(200, 200),\n",
    "          torch.nn.ReLU(),\n",
    "          torch.nn.Linear(200, 200),\n",
    "          torch.nn.ReLU(),\n",
    "          torch.nn.Linear(200, 200),\n",
    "          torch.nn.ReLU(),\n",
    "          torch.nn.Linear(200, 1),\n",
    "          )\n",
    "\n",
    "def DefRegNN5(p=0.02):\n",
    "  return torch.nn.Sequential(\n",
    "          torch.nn.Linear(1, 200),\n",
    "          torch.nn.ReLU(),\n",
    "          torch.nn.Dropout(p),\n",
    "          torch.nn.Linear(200, 200),\n",
    "          torch.nn.ReLU(),\n",
    "          torch.nn.Dropout(p),\n",
    "          torch.nn.Linear(200, 200),\n",
    "          torch.nn.ReLU(),\n",
    "          torch.nn.Dropout(p),\n",
    "          torch.nn.Linear(200, 200),\n",
    "          torch.nn.ReLU(),\n",
    "          torch.nn.Dropout(p),\n",
    "          torch.nn.Linear(200, 1),\n",
    "          )"
   ]
  },
  {
   "cell_type": "code",
   "execution_count": 34,
   "id": "0f69a3c4-6fcd-4df7-b0c6-792bd7407a0c",
   "metadata": {},
   "outputs": [],
   "source": [
    "#NOTE: Switch the NN definition.\n",
    "#Setup a neural network.\n",
    "#net= TRegNN1()\n",
    "#net= DefRegNN2()\n",
    "#net= DefRegNN3()\n",
    "#net= DefRegNN4()\n",
    "net= DefRegNN5()"
   ]
  },
  {
   "cell_type": "code",
   "execution_count": 35,
   "id": "197c7c85-4963-473e-b161-f7114b4df87c",
   "metadata": {},
   "outputs": [],
   "source": [
    "learn= fastai.vision.all.Learner(dls, net,  loss_func=fastai.vision.all.MSELossFlat(), metrics=fastai.vision.all.rmse)"
   ]
  },
  {
   "cell_type": "code",
   "execution_count": 36,
   "id": "4615dff7-d1a4-4a27-b99d-ec1093cbacde",
   "metadata": {},
   "outputs": [
    {
     "data": {
      "text/html": [],
      "text/plain": [
       "<IPython.core.display.HTML object>"
      ]
     },
     "metadata": {},
     "output_type": "display_data"
    },
    {
     "data": {
      "text/plain": [
       "Sequential (Input shape: 50)\n",
       "============================================================================\n",
       "Layer (type)         Output Shape         Param #    Trainable \n",
       "============================================================================\n",
       "                     50 x 200            \n",
       "Linear                                    400        True      \n",
       "ReLU                                                           \n",
       "Dropout                                                        \n",
       "Linear                                    40200      True      \n",
       "ReLU                                                           \n",
       "Dropout                                                        \n",
       "Linear                                    40200      True      \n",
       "ReLU                                                           \n",
       "Dropout                                                        \n",
       "Linear                                    40200      True      \n",
       "ReLU                                                           \n",
       "Dropout                                                        \n",
       "____________________________________________________________________________\n",
       "                     50 x 1              \n",
       "Linear                                    201        True      \n",
       "____________________________________________________________________________\n",
       "\n",
       "Total params: 121,201\n",
       "Total trainable params: 121,201\n",
       "Total non-trainable params: 0\n",
       "\n",
       "Optimizer used: <function Adam at 0x7ff990e03598>\n",
       "Loss function: FlattenedLoss of MSELoss()\n",
       "\n",
       "Callbacks:\n",
       "  - TrainEvalCallback\n",
       "  - Recorder\n",
       "  - ProgressCallback"
      ]
     },
     "execution_count": 36,
     "metadata": {},
     "output_type": "execute_result"
    }
   ],
   "source": [
    "learn.summary()"
   ]
  },
  {
   "cell_type": "code",
   "execution_count": 37,
   "id": "9429ddc4-3d83-49dc-83da-629b65133854",
   "metadata": {},
   "outputs": [
    {
     "data": {
      "text/html": [],
      "text/plain": [
       "<IPython.core.display.HTML object>"
      ]
     },
     "metadata": {},
     "output_type": "display_data"
    },
    {
     "data": {
      "text/plain": [
       "SuggestedLRs(valley=0.0010000000474974513)"
      ]
     },
     "execution_count": 37,
     "metadata": {},
     "output_type": "execute_result"
    },
    {
     "data": {
      "application/vnd.jupyter.widget-view+json": {
       "model_id": "3f6ffa865d2c481eb733db0deaf53e98",
       "version_major": 2,
       "version_minor": 0
      },
      "text/html": [
       "\n",
       "            <div style=\"display: inline-block;\">\n",
       "                <div class=\"jupyter-widgets widget-label\" style=\"text-align: center;\">\n",
       "                    Figure\n",
       "                </div>\n",
       "                <img src='data:image/png;base64,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' width=640.0/>\n",
       "            </div>\n",
       "        "
      ],
      "text/plain": [
       "Canvas(toolbar=Toolbar(toolitems=[('Home', 'Reset original view', 'home', 'home'), ('Back', 'Back to  previous…"
      ]
     },
     "metadata": {},
     "output_type": "display_data"
    }
   ],
   "source": [
    "learn.lr_find()"
   ]
  },
  {
   "cell_type": "code",
   "execution_count": 38,
   "id": "fb7081b4-d03d-4166-bb82-9abd400bf80e",
   "metadata": {},
   "outputs": [
    {
     "data": {
      "text/html": [
       "<table border=\"1\" class=\"dataframe\">\n",
       "  <thead>\n",
       "    <tr style=\"text-align: left;\">\n",
       "      <th>epoch</th>\n",
       "      <th>train_loss</th>\n",
       "      <th>valid_loss</th>\n",
       "      <th>_rmse</th>\n",
       "      <th>time</th>\n",
       "    </tr>\n",
       "  </thead>\n",
       "  <tbody>\n",
       "    <tr>\n",
       "      <td>0</td>\n",
       "      <td>10.760094</td>\n",
       "      <td>12.742895</td>\n",
       "      <td>3.569719</td>\n",
       "      <td>00:00</td>\n",
       "    </tr>\n",
       "    <tr>\n",
       "      <td>1</td>\n",
       "      <td>10.653747</td>\n",
       "      <td>12.358365</td>\n",
       "      <td>3.515447</td>\n",
       "      <td>00:00</td>\n",
       "    </tr>\n",
       "    <tr>\n",
       "      <td>2</td>\n",
       "      <td>10.540522</td>\n",
       "      <td>11.660642</td>\n",
       "      <td>3.414768</td>\n",
       "      <td>00:00</td>\n",
       "    </tr>\n",
       "    <tr>\n",
       "      <td>3</td>\n",
       "      <td>10.063567</td>\n",
       "      <td>10.409276</td>\n",
       "      <td>3.226341</td>\n",
       "      <td>00:00</td>\n",
       "    </tr>\n",
       "    <tr>\n",
       "      <td>4</td>\n",
       "      <td>9.557108</td>\n",
       "      <td>7.980093</td>\n",
       "      <td>2.824906</td>\n",
       "      <td>00:00</td>\n",
       "    </tr>\n",
       "    <tr>\n",
       "      <td>5</td>\n",
       "      <td>8.722869</td>\n",
       "      <td>4.939591</td>\n",
       "      <td>2.222519</td>\n",
       "      <td>00:00</td>\n",
       "    </tr>\n",
       "    <tr>\n",
       "      <td>6</td>\n",
       "      <td>8.001588</td>\n",
       "      <td>4.385828</td>\n",
       "      <td>2.094237</td>\n",
       "      <td>00:00</td>\n",
       "    </tr>\n",
       "    <tr>\n",
       "      <td>7</td>\n",
       "      <td>7.381316</td>\n",
       "      <td>4.209088</td>\n",
       "      <td>2.051606</td>\n",
       "      <td>00:00</td>\n",
       "    </tr>\n",
       "    <tr>\n",
       "      <td>8</td>\n",
       "      <td>6.835009</td>\n",
       "      <td>4.298771</td>\n",
       "      <td>2.073348</td>\n",
       "      <td>00:00</td>\n",
       "    </tr>\n",
       "    <tr>\n",
       "      <td>9</td>\n",
       "      <td>6.335008</td>\n",
       "      <td>2.936309</td>\n",
       "      <td>1.713566</td>\n",
       "      <td>00:00</td>\n",
       "    </tr>\n",
       "    <tr>\n",
       "      <td>10</td>\n",
       "      <td>5.830121</td>\n",
       "      <td>2.083586</td>\n",
       "      <td>1.443463</td>\n",
       "      <td>00:00</td>\n",
       "    </tr>\n",
       "    <tr>\n",
       "      <td>11</td>\n",
       "      <td>5.366484</td>\n",
       "      <td>2.042428</td>\n",
       "      <td>1.429135</td>\n",
       "      <td>00:00</td>\n",
       "    </tr>\n",
       "    <tr>\n",
       "      <td>12</td>\n",
       "      <td>4.953597</td>\n",
       "      <td>1.755749</td>\n",
       "      <td>1.325047</td>\n",
       "      <td>00:00</td>\n",
       "    </tr>\n",
       "    <tr>\n",
       "      <td>13</td>\n",
       "      <td>4.584199</td>\n",
       "      <td>1.224104</td>\n",
       "      <td>1.106392</td>\n",
       "      <td>00:00</td>\n",
       "    </tr>\n",
       "    <tr>\n",
       "      <td>14</td>\n",
       "      <td>4.240225</td>\n",
       "      <td>0.771945</td>\n",
       "      <td>0.878604</td>\n",
       "      <td>00:00</td>\n",
       "    </tr>\n",
       "    <tr>\n",
       "      <td>15</td>\n",
       "      <td>3.918119</td>\n",
       "      <td>0.755593</td>\n",
       "      <td>0.869249</td>\n",
       "      <td>00:00</td>\n",
       "    </tr>\n",
       "    <tr>\n",
       "      <td>16</td>\n",
       "      <td>3.622613</td>\n",
       "      <td>0.519331</td>\n",
       "      <td>0.720646</td>\n",
       "      <td>00:00</td>\n",
       "    </tr>\n",
       "    <tr>\n",
       "      <td>17</td>\n",
       "      <td>3.353109</td>\n",
       "      <td>0.448196</td>\n",
       "      <td>0.669474</td>\n",
       "      <td>00:00</td>\n",
       "    </tr>\n",
       "    <tr>\n",
       "      <td>18</td>\n",
       "      <td>3.106025</td>\n",
       "      <td>0.415761</td>\n",
       "      <td>0.644795</td>\n",
       "      <td>00:00</td>\n",
       "    </tr>\n",
       "    <tr>\n",
       "      <td>19</td>\n",
       "      <td>2.888035</td>\n",
       "      <td>0.472476</td>\n",
       "      <td>0.687369</td>\n",
       "      <td>00:00</td>\n",
       "    </tr>\n",
       "    <tr>\n",
       "      <td>20</td>\n",
       "      <td>2.686367</td>\n",
       "      <td>0.298008</td>\n",
       "      <td>0.545901</td>\n",
       "      <td>00:00</td>\n",
       "    </tr>\n",
       "    <tr>\n",
       "      <td>21</td>\n",
       "      <td>2.501477</td>\n",
       "      <td>0.273892</td>\n",
       "      <td>0.523346</td>\n",
       "      <td>00:00</td>\n",
       "    </tr>\n",
       "    <tr>\n",
       "      <td>22</td>\n",
       "      <td>2.338857</td>\n",
       "      <td>0.272155</td>\n",
       "      <td>0.521685</td>\n",
       "      <td>00:00</td>\n",
       "    </tr>\n",
       "    <tr>\n",
       "      <td>23</td>\n",
       "      <td>2.184630</td>\n",
       "      <td>0.313767</td>\n",
       "      <td>0.560149</td>\n",
       "      <td>00:00</td>\n",
       "    </tr>\n",
       "    <tr>\n",
       "      <td>24</td>\n",
       "      <td>2.046431</td>\n",
       "      <td>0.307028</td>\n",
       "      <td>0.554101</td>\n",
       "      <td>00:00</td>\n",
       "    </tr>\n",
       "    <tr>\n",
       "      <td>25</td>\n",
       "      <td>1.919035</td>\n",
       "      <td>0.283206</td>\n",
       "      <td>0.532171</td>\n",
       "      <td>00:00</td>\n",
       "    </tr>\n",
       "    <tr>\n",
       "      <td>26</td>\n",
       "      <td>1.803222</td>\n",
       "      <td>0.271982</td>\n",
       "      <td>0.521519</td>\n",
       "      <td>00:00</td>\n",
       "    </tr>\n",
       "    <tr>\n",
       "      <td>27</td>\n",
       "      <td>1.698146</td>\n",
       "      <td>0.268805</td>\n",
       "      <td>0.518464</td>\n",
       "      <td>00:00</td>\n",
       "    </tr>\n",
       "    <tr>\n",
       "      <td>28</td>\n",
       "      <td>1.601119</td>\n",
       "      <td>0.268547</td>\n",
       "      <td>0.518215</td>\n",
       "      <td>00:00</td>\n",
       "    </tr>\n",
       "    <tr>\n",
       "      <td>29</td>\n",
       "      <td>1.513013</td>\n",
       "      <td>0.268554</td>\n",
       "      <td>0.518222</td>\n",
       "      <td>00:00</td>\n",
       "    </tr>\n",
       "  </tbody>\n",
       "</table>"
      ],
      "text/plain": [
       "<IPython.core.display.HTML object>"
      ]
     },
     "metadata": {},
     "output_type": "display_data"
    }
   ],
   "source": [
    "learn.fit_one_cycle(30, 0.0012)"
   ]
  },
  {
   "cell_type": "code",
   "execution_count": 39,
   "id": "c1709077-878f-4cee-b198-cc1bd373738b",
   "metadata": {},
   "outputs": [
    {
     "data": {
      "application/vnd.jupyter.widget-view+json": {
       "model_id": "ac45514df84240e7abffd758de311ce9",
       "version_major": 2,
       "version_minor": 0
      },
      "text/html": [
       "\n",
       "            <div style=\"display: inline-block;\">\n",
       "                <div class=\"jupyter-widgets widget-label\" style=\"text-align: center;\">\n",
       "                    Figure\n",
       "                </div>\n",
       "                <img src='data:image/png;base64,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' width=640.0/>\n",
       "            </div>\n",
       "        "
      ],
      "text/plain": [
       "Canvas(toolbar=Toolbar(toolitems=[('Home', 'Reset original view', 'home', 'home'), ('Back', 'Back to  previous…"
      ]
     },
     "metadata": {},
     "output_type": "display_data"
    }
   ],
   "source": [
    "%matplotlib widget\n",
    "learn.recorder.plot_loss()"
   ]
  },
  {
   "cell_type": "code",
   "execution_count": 40,
   "id": "716b608c-b4ef-4b00-b03c-e83d5548c402",
   "metadata": {},
   "outputs": [
    {
     "name": "stdout",
     "output_type": "stream",
     "text": [
      "x=tensor([[2.2483]])\n",
      "  learn.predict(x)=tensor([4.3554])\n",
      "  net(x)=tensor([[4.3554]])\n",
      "\n",
      "x=(tensor([-3.8868]), tensor([-0.9492]))\n",
      "  learn.predict(x)=tensor([-2.0385])\n",
      "  net(x)=tensor([-2.0385])\n"
     ]
    }
   ],
   "source": [
    "x= torch.from_numpy(np.random.uniform(xmin,xmax,size=(1,1))).float()\n",
    "print(f'x={x}')\n",
    "with learn.no_bar(): print(f'  learn.predict(x)={learn.predict(x)[1]}')\n",
    "net.eval()\n",
    "with torch.no_grad(): print(f'  net(x)={net(x)}')\n",
    "print()\n",
    "\n",
    "x= dls.valid_ds[0]\n",
    "print(f'x={x}')\n",
    "with learn.no_bar(): print(f'  learn.predict(x)={learn.predict(x)[1]}')\n",
    "# dls.valid_ds[0]\n",
    "net.eval()\n",
    "with torch.no_grad(): print(f'  net(x)={net(x[0])}')"
   ]
  },
  {
   "cell_type": "code",
   "execution_count": 41,
   "id": "307e19c7-7dce-4f23-95ef-3e761c891d04",
   "metadata": {},
   "outputs": [
    {
     "name": "stdout",
     "output_type": "stream",
     "text": [
      "x=tensor([[1.0306],\n",
      "        [3.2362],\n",
      "        [2.6697]])\n",
      "  learn.predict(x)=tensor([[3.7589],\n",
      "        [2.9421],\n",
      "        [3.8278]])\n",
      "  net(x)=tensor([[3.7589],\n",
      "        [2.9421],\n",
      "        [3.8278]])\n",
      "\n",
      "x=(tensor([[-3.8868],\n",
      "        [-1.7507],\n",
      "        [-2.0780]]), tensor([[-0.9492],\n",
      "        [-5.4539],\n",
      "        [-4.3423]]))\n",
      "  learn.predict(x)=tensor([[-2.0385],\n",
      "        [-4.6469],\n",
      "        [-4.5657]])\n",
      "  net(x)=tensor([[-2.0385],\n",
      "        [-4.6469],\n",
      "        [-4.5657]])\n"
     ]
    }
   ],
   "source": [
    "x= torch.from_numpy(np.random.uniform(xmin,xmax,size=(3,1))).float()\n",
    "print(f'x={x}')\n",
    "with learn.no_bar(): print(f'  learn.predict(x)={learn.predict((x,torch.zeros(x.shape[0])))[1]}')  #torch.zeros(...) is a dummy label (necessary)\n",
    "net.eval()\n",
    "with torch.no_grad(): print(f'  net(x)={net(x)}')\n",
    "print()\n",
    "\n",
    "x= dls.valid_ds[:3]\n",
    "print(f'x={x}')\n",
    "with learn.no_bar(): print(f'  learn.predict(x)={learn.predict(x)[1]}')\n",
    "# dls.valid_ds[0]\n",
    "net.eval()\n",
    "with torch.no_grad(): print(f'  net(x)={net(x[0])}')"
   ]
  },
  {
   "cell_type": "code",
   "execution_count": 42,
   "id": "69e006c4-1a1b-4e19-bce0-ebdda2376b07",
   "metadata": {},
   "outputs": [
    {
     "data": {
      "text/plain": [
       "<matplotlib.legend.Legend at 0x7ffa8a40b940>"
      ]
     },
     "execution_count": 42,
     "metadata": {},
     "output_type": "execute_result"
    },
    {
     "data": {
      "application/vnd.jupyter.widget-view+json": {
       "model_id": "e0590215f44d4e278033f0036faff013",
       "version_major": 2,
       "version_minor": 0
      },
      "text/html": [
       "\n",
       "            <div style=\"display: inline-block;\">\n",
       "                <div class=\"jupyter-widgets widget-label\" style=\"text-align: center;\">\n",
       "                    Figure\n",
       "                </div>\n",
       "                <img src='data:image/png;base64,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' width=640.0/>\n",
       "            </div>\n",
       "        "
      ],
      "text/plain": [
       "Canvas(toolbar=Toolbar(toolitems=[('Home', 'Reset original view', 'home', 'home'), ('Back', 'Back to  previous…"
      ]
     },
     "metadata": {},
     "output_type": "display_data"
    }
   ],
   "source": [
    "#Plot with net\n",
    "%matplotlib widget\n",
    "fig= plt.figure()\n",
    "ax_pred= fig.add_subplot(1,1,1)\n",
    "\n",
    "true_x= np.linspace(xmin,xmax,1000).reshape((-1,1))\n",
    "ax_pred.plot(true_x, Func(true_x), color='green', linewidth=1, label='true_func')\n",
    "ax_pred.scatter(data_x, data_y, 1, color='blue', label='data')\n",
    "\n",
    "net.eval()  # evaluation mode; disabling dropout.\n",
    "true_x_var= torch.from_numpy(true_x).float()\n",
    "ax_pred.plot(true_x, net(true_x_var).data.cpu(), color='red', linewidth=2, label='nn_reg')\n",
    "\n",
    "ax_pred.set_title('Prediction')\n",
    "ax_pred.set_xlabel('x')\n",
    "ax_pred.set_ylabel('y')\n",
    "ax_pred.legend()"
   ]
  },
  {
   "cell_type": "code",
   "execution_count": 43,
   "id": "9db6af8b-a3e3-497f-8c74-4c21139395a0",
   "metadata": {},
   "outputs": [
    {
     "data": {
      "text/html": [],
      "text/plain": [
       "<IPython.core.display.HTML object>"
      ]
     },
     "metadata": {},
     "output_type": "display_data"
    },
    {
     "data": {
      "text/plain": [
       "<matplotlib.legend.Legend at 0x7ff9909c5ef0>"
      ]
     },
     "execution_count": 43,
     "metadata": {},
     "output_type": "execute_result"
    },
    {
     "data": {
      "application/vnd.jupyter.widget-view+json": {
       "model_id": "44cbf21c916b4326b1ad84fcb8a6504e",
       "version_major": 2,
       "version_minor": 0
      },
      "text/html": [
       "\n",
       "            <div style=\"display: inline-block;\">\n",
       "                <div class=\"jupyter-widgets widget-label\" style=\"text-align: center;\">\n",
       "                    Figure\n",
       "                </div>\n",
       "                <img src='data:image/png;base64,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' width=640.0/>\n",
       "            </div>\n",
       "        "
      ],
      "text/plain": [
       "Canvas(toolbar=Toolbar(toolitems=[('Home', 'Reset original view', 'home', 'home'), ('Back', 'Back to  previous…"
      ]
     },
     "metadata": {},
     "output_type": "display_data"
    }
   ],
   "source": [
    "#Plot with learn\n",
    "%matplotlib widget\n",
    "fig= plt.figure()\n",
    "ax_pred= fig.add_subplot(1,1,1)\n",
    "\n",
    "true_x= np.linspace(xmin,xmax,1000).reshape((-1,1))\n",
    "ax_pred.plot(true_x, Func(true_x), color='green', linewidth=1, label='true_func')\n",
    "ax_pred.scatter(data_x, data_y, 1, color='blue', label='data')\n",
    "\n",
    "true_x_var= torch.from_numpy(true_x).float()\n",
    "ax_pred.plot(true_x, learn.predict((true_x_var,torch.zeros(true_x_var.shape[0])))[1], color='red', linewidth=2, label='nn_reg')\n",
    "\n",
    "ax_pred.set_title('Prediction')\n",
    "ax_pred.set_xlabel('x')\n",
    "ax_pred.set_ylabel('y')\n",
    "ax_pred.legend()"
   ]
  }
 ],
 "metadata": {
  "kernelspec": {
   "display_name": "Python 3",
   "language": "python",
   "name": "python3"
  },
  "language_info": {
   "codemirror_mode": {
    "name": "ipython",
    "version": 3
   },
   "file_extension": ".py",
   "mimetype": "text/x-python",
   "name": "python",
   "nbconvert_exporter": "python",
   "pygments_lexer": "ipython3",
   "version": "3.6.9"
  }
 },
 "nbformat": 4,
 "nbformat_minor": 5
}
