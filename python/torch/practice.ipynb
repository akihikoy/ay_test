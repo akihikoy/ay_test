{
 "cells": [
  {
   "cell_type": "code",
   "execution_count": 1,
   "id": "33dd4db4-0c53-46a7-bb4e-45e697180331",
   "metadata": {},
   "outputs": [],
   "source": [
    "import numpy as np"
   ]
  },
  {
   "cell_type": "code",
   "execution_count": 9,
   "id": "afd17d15-71e0-4525-8fb3-1b02d9541523",
   "metadata": {},
   "outputs": [],
   "source": [
    "#Local variable holder.\n",
    "class TLocalVar:\n",
    "  def __init__(self, l):\n",
    "    self.__dict__= l"
   ]
  },
  {
   "cell_type": "code",
   "execution_count": 13,
   "id": "fd1d5477-0261-4e63-9bcc-bd7f4b6d77b3",
   "metadata": {},
   "outputs": [
    {
     "name": "stdout",
     "output_type": "stream",
     "text": [
      "{'b': 10, 'a': 100}\n",
      "<__main__.TLocalVar object at 0x7fe432f197b8>\n",
      "100 10\n",
      "10000 1000\n",
      "100 10\n",
      "100 10\n"
     ]
    }
   ],
   "source": [
    "def test_f(a):\n",
    "  b= 10\n",
    "  print(locals())\n",
    "  l= TLocalVar(locals())\n",
    "  print(l)\n",
    "  # print(l['a'])\n",
    "  print(l.a,l.b)\n",
    "  l.a*= 100\n",
    "  l.b*= 100\n",
    "  print(l.a,l.b)\n",
    "  print(a,b)\n",
    "  locals()['a']*= 100\n",
    "  print(a,b)\n",
    "test_f(100)"
   ]
  },
  {
   "cell_type": "code",
   "execution_count": 14,
   "id": "63f4cb81-ee08-4395-ad5b-1bcaf5ad7613",
   "metadata": {},
   "outputs": [],
   "source": [
    "#Container class to share variables.\n",
    "class TContainer(object):\n",
    "  def __init__(self):\n",
    "    pass\n",
    "  def __del__(self):\n",
    "    pass\n",
    "  def __str__(self):\n",
    "    return str(self.__dict__)\n",
    "  def __repr__(self):\n",
    "    return str(self.__dict__)\n",
    "  def __iter__(self):\n",
    "    return self.__dict__.itervalues()\n",
    "  def items(self):\n",
    "    return self.__dict__.items()\n",
    "  def iteritems(self):\n",
    "    return self.__dict__.iteritems()\n",
    "  def keys(self):\n",
    "    return self.__dict__.keys()\n",
    "  def values(self):\n",
    "    return self.__dict__.values()\n",
    "  def __getitem__(self,key):\n",
    "    return self.__dict__[key]\n",
    "  def __setitem__(self,key,value):\n",
    "    self.__dict__[key]= value\n",
    "  def __delitem__(self,key):\n",
    "    del self.__dict__[key]\n",
    "  def __contains__(self,key):\n",
    "    return key in self.__dict__\n",
    "  def Cleanup(self):\n",
    "    keys= self.__dict__.keys()\n",
    "    for k in keys:\n",
    "      self.__dict__[k]= None\n",
    "      del self.__dict__[k]"
   ]
  },
  {
   "cell_type": "code",
   "execution_count": 15,
   "id": "0676f7cd-3474-4529-a64b-1265cdc7d125",
   "metadata": {},
   "outputs": [],
   "source": [
    "l= TContainer()"
   ]
  },
  {
   "cell_type": "code",
   "execution_count": 16,
   "id": "76635cb3-5d93-45b1-8fde-b4f225ec8aaf",
   "metadata": {},
   "outputs": [
    {
     "name": "stdout",
     "output_type": "stream",
     "text": [
      "0\n",
      "1\n",
      "2\n"
     ]
    }
   ],
   "source": [
    "for l.i in range(3):\n",
    "  print(l.i)"
   ]
  },
  {
   "cell_type": "code",
   "execution_count": null,
   "id": "e80925e0-0573-472f-ae0e-e6234629fd10",
   "metadata": {},
   "outputs": [],
   "source": []
  }
 ],
 "metadata": {
  "kernelspec": {
   "display_name": "Python 3",
   "language": "python",
   "name": "python3"
  },
  "language_info": {
   "codemirror_mode": {
    "name": "ipython",
    "version": 3
   },
   "file_extension": ".py",
   "mimetype": "text/x-python",
   "name": "python",
   "nbconvert_exporter": "python",
   "pygments_lexer": "ipython3",
   "version": "3.6.9"
  }
 },
 "nbformat": 4,
 "nbformat_minor": 5
}
