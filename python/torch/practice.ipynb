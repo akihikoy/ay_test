{
 "cells": [
  {
   "cell_type": "code",
   "execution_count": 1,
   "id": "33dd4db4-0c53-46a7-bb4e-45e697180331",
   "metadata": {},
   "outputs": [],
   "source": [
    "import numpy as np\n",
    "import torch\n",
    "import torchvision\n",
    "import torchinfo"
   ]
  },
  {
   "cell_type": "markdown",
   "id": "d5516360-db01-4f22-a1d0-decdd6d7350b",
   "metadata": {},
   "source": [
    "# Python basic"
   ]
  },
  {
   "cell_type": "code",
   "execution_count": 9,
   "id": "afd17d15-71e0-4525-8fb3-1b02d9541523",
   "metadata": {},
   "outputs": [],
   "source": [
    "#Local variable holder.\n",
    "class TLocalVar:\n",
    "  def __init__(self, l):\n",
    "    self.__dict__= l"
   ]
  },
  {
   "cell_type": "code",
   "execution_count": 13,
   "id": "fd1d5477-0261-4e63-9bcc-bd7f4b6d77b3",
   "metadata": {},
   "outputs": [
    {
     "name": "stdout",
     "output_type": "stream",
     "text": [
      "{'b': 10, 'a': 100}\n",
      "<__main__.TLocalVar object at 0x7fe432f197b8>\n",
      "100 10\n",
      "10000 1000\n",
      "100 10\n",
      "100 10\n"
     ]
    }
   ],
   "source": [
    "def test_f(a):\n",
    "  b= 10\n",
    "  print(locals())\n",
    "  l= TLocalVar(locals())\n",
    "  print(l)\n",
    "  # print(l['a'])\n",
    "  print(l.a,l.b)\n",
    "  l.a*= 100\n",
    "  l.b*= 100\n",
    "  print(l.a,l.b)\n",
    "  print(a,b)\n",
    "  locals()['a']*= 100\n",
    "  print(a,b)\n",
    "test_f(100)"
   ]
  },
  {
   "cell_type": "code",
   "execution_count": 14,
   "id": "63f4cb81-ee08-4395-ad5b-1bcaf5ad7613",
   "metadata": {},
   "outputs": [],
   "source": [
    "#Container class to share variables.\n",
    "class TContainer(object):\n",
    "  def __init__(self):\n",
    "    pass\n",
    "  def __del__(self):\n",
    "    pass\n",
    "  def __str__(self):\n",
    "    return str(self.__dict__)\n",
    "  def __repr__(self):\n",
    "    return str(self.__dict__)\n",
    "  def __iter__(self):\n",
    "    return self.__dict__.itervalues()\n",
    "  def items(self):\n",
    "    return self.__dict__.items()\n",
    "  def iteritems(self):\n",
    "    return self.__dict__.iteritems()\n",
    "  def keys(self):\n",
    "    return self.__dict__.keys()\n",
    "  def values(self):\n",
    "    return self.__dict__.values()\n",
    "  def __getitem__(self,key):\n",
    "    return self.__dict__[key]\n",
    "  def __setitem__(self,key,value):\n",
    "    self.__dict__[key]= value\n",
    "  def __delitem__(self,key):\n",
    "    del self.__dict__[key]\n",
    "  def __contains__(self,key):\n",
    "    return key in self.__dict__\n",
    "  def Cleanup(self):\n",
    "    keys= self.__dict__.keys()\n",
    "    for k in keys:\n",
    "      self.__dict__[k]= None\n",
    "      del self.__dict__[k]"
   ]
  },
  {
   "cell_type": "code",
   "execution_count": 15,
   "id": "0676f7cd-3474-4529-a64b-1265cdc7d125",
   "metadata": {},
   "outputs": [],
   "source": [
    "l= TContainer()"
   ]
  },
  {
   "cell_type": "code",
   "execution_count": 16,
   "id": "76635cb3-5d93-45b1-8fde-b4f225ec8aaf",
   "metadata": {},
   "outputs": [
    {
     "name": "stdout",
     "output_type": "stream",
     "text": [
      "0\n",
      "1\n",
      "2\n"
     ]
    }
   ],
   "source": [
    "for l.i in range(3):\n",
    "  print(l.i)"
   ]
  },
  {
   "cell_type": "markdown",
   "id": "a2997f12-cea9-4df4-a22c-e85f0ab69a21",
   "metadata": {},
   "source": [
    "# Torch Tensor"
   ]
  },
  {
   "cell_type": "markdown",
   "id": "98ef204c-076b-45bc-bbb5-b2f38dae470f",
   "metadata": {},
   "source": [
    "## shape and view"
   ]
  },
  {
   "cell_type": "code",
   "execution_count": 2,
   "id": "2c4e2384-ccf9-4aee-9ae5-0d24c703e259",
   "metadata": {},
   "outputs": [],
   "source": [
    "# n_batch= 1\n",
    "n_batch= 4"
   ]
  },
  {
   "cell_type": "code",
   "execution_count": 3,
   "id": "4003e627-2780-4b45-9540-ca1a80a21370",
   "metadata": {},
   "outputs": [],
   "source": [
    "x= torch.tensor(np.zeros((n_batch,3,32,32))).float()"
   ]
  },
  {
   "cell_type": "code",
   "execution_count": 4,
   "id": "1adcd99c-66bb-457d-b631-8469cbea5189",
   "metadata": {},
   "outputs": [
    {
     "data": {
      "text/plain": [
       "torch.Size([4, 3, 32, 32])"
      ]
     },
     "execution_count": 4,
     "metadata": {},
     "output_type": "execute_result"
    }
   ],
   "source": [
    "x.shape"
   ]
  },
  {
   "cell_type": "code",
   "execution_count": 5,
   "id": "143ea2e8-2fc6-4de0-a432-07604bbb315f",
   "metadata": {},
   "outputs": [
    {
     "data": {
      "text/plain": [
       "3072"
      ]
     },
     "execution_count": 5,
     "metadata": {},
     "output_type": "execute_result"
    }
   ],
   "source": [
    "x[0].numel()"
   ]
  },
  {
   "cell_type": "code",
   "execution_count": 6,
   "id": "6cefe48b-bcfb-498f-98e2-3df3d8ab8e2f",
   "metadata": {},
   "outputs": [
    {
     "data": {
      "text/plain": [
       "torch.Size([4, 3072])"
      ]
     },
     "execution_count": 6,
     "metadata": {},
     "output_type": "execute_result"
    }
   ],
   "source": [
    "x.view(x.size(0), -1).shape"
   ]
  },
  {
   "cell_type": "code",
   "execution_count": 7,
   "id": "8b63fd7e-d3ea-4611-b5b4-934fb1d2395c",
   "metadata": {},
   "outputs": [
    {
     "data": {
      "text/plain": [
       "Linear(in_features=3072, out_features=10, bias=True)"
      ]
     },
     "execution_count": 7,
     "metadata": {},
     "output_type": "execute_result"
    }
   ],
   "source": [
    "l=torch.nn.Linear(x[0].numel(), 10)\n",
    "l"
   ]
  },
  {
   "cell_type": "code",
   "execution_count": 8,
   "id": "cfbf94ba-e349-4e99-a8e2-203fb46672ba",
   "metadata": {},
   "outputs": [
    {
     "data": {
      "text/plain": [
       "tensor([ 0.0170, -0.0096, -0.0093, -0.0021,  0.0015,  0.0124,  0.0121,  0.0003,\n",
       "        -0.0003, -0.0002], grad_fn=<AddBackward0>)"
      ]
     },
     "execution_count": 8,
     "metadata": {},
     "output_type": "execute_result"
    }
   ],
   "source": [
    "l(x[0].view(-1))"
   ]
  },
  {
   "cell_type": "code",
   "execution_count": 9,
   "id": "1a42f4b3-532d-433a-9459-fd3c529657ef",
   "metadata": {},
   "outputs": [
    {
     "data": {
      "text/plain": [
       "tensor([[ 0.0170, -0.0096, -0.0093, -0.0021,  0.0015,  0.0124,  0.0121,  0.0003,\n",
       "         -0.0003, -0.0002],\n",
       "        [ 0.0170, -0.0096, -0.0093, -0.0021,  0.0015,  0.0124,  0.0121,  0.0003,\n",
       "         -0.0003, -0.0002],\n",
       "        [ 0.0170, -0.0096, -0.0093, -0.0021,  0.0015,  0.0124,  0.0121,  0.0003,\n",
       "         -0.0003, -0.0002],\n",
       "        [ 0.0170, -0.0096, -0.0093, -0.0021,  0.0015,  0.0124,  0.0121,  0.0003,\n",
       "         -0.0003, -0.0002]], grad_fn=<AddmmBackward>)"
      ]
     },
     "execution_count": 9,
     "metadata": {},
     "output_type": "execute_result"
    }
   ],
   "source": [
    "l(x.view(x.size(0), -1))"
   ]
  },
  {
   "cell_type": "markdown",
   "id": "49ebb019-610e-4640-b9dc-2c352ae9f0da",
   "metadata": {},
   "source": [
    "## cat (concatenate) and stack"
   ]
  },
  {
   "cell_type": "code",
   "execution_count": 10,
   "id": "9e80ca54-f1f4-4296-917f-4c4b20f641b6",
   "metadata": {},
   "outputs": [
    {
     "name": "stdout",
     "output_type": "stream",
     "text": [
      "x1=tensor([2., 3., 4.])\n",
      "x2=tensor([10., 22., 12.])\n",
      "torch.cat=tensor([ 2.,  3.,  4., 10., 22., 12.])\n",
      "torch.stack=tensor([[ 2.,  3.,  4.],\n",
      "        [10., 22., 12.]])\n"
     ]
    }
   ],
   "source": [
    "x1= torch.from_numpy(np.array([2,3,4])).float()\n",
    "x2= torch.from_numpy(np.array([10,22,12])).float()\n",
    "print(f'x1={x1}')\n",
    "print(f'x2={x2}')\n",
    "print(f'torch.cat={torch.cat((x1,x2),axis=0)}')\n",
    "print(f'torch.stack={torch.stack((x1,x2),axis=0)}')"
   ]
  },
  {
   "cell_type": "markdown",
   "id": "1ec1324f-4709-4b08-866d-fffb0765b492",
   "metadata": {},
   "source": [
    "## view and flatten"
   ]
  },
  {
   "cell_type": "code",
   "execution_count": 105,
   "id": "377877c4-c347-4b59-9914-115cfdcba967",
   "metadata": {},
   "outputs": [],
   "source": [
    "n_batch= 64\n",
    "x= torch.tensor(np.zeros((n_batch,128,6,6))).float()"
   ]
  },
  {
   "cell_type": "code",
   "execution_count": 106,
   "id": "9e00c52b-8e48-457a-9669-36392a9a5e6a",
   "metadata": {},
   "outputs": [
    {
     "data": {
      "text/plain": [
       "torch.Size([64, 128, 6, 6])"
      ]
     },
     "execution_count": 106,
     "metadata": {},
     "output_type": "execute_result"
    }
   ],
   "source": [
    "x.shape"
   ]
  },
  {
   "cell_type": "code",
   "execution_count": 107,
   "id": "e8c888bc-8e08-42a5-9350-d85c4400cf24",
   "metadata": {},
   "outputs": [
    {
     "data": {
      "text/plain": [
       "torch.Size([64, 4608])"
      ]
     },
     "execution_count": 107,
     "metadata": {},
     "output_type": "execute_result"
    }
   ],
   "source": [
    "x.view(x.shape[0], -1).shape"
   ]
  },
  {
   "cell_type": "code",
   "execution_count": 108,
   "id": "c265d07a-5ee8-462c-a44a-e911139a30b8",
   "metadata": {},
   "outputs": [
    {
     "data": {
      "text/plain": [
       "torch.Size([64, 4608])"
      ]
     },
     "execution_count": 108,
     "metadata": {},
     "output_type": "execute_result"
    }
   ],
   "source": [
    "flatten= torch.nn.Flatten()\n",
    "flatten(x).shape"
   ]
  },
  {
   "cell_type": "code",
   "execution_count": 114,
   "id": "42c38211-201f-4dc8-879f-54f42e6bf658",
   "metadata": {},
   "outputs": [
    {
     "data": {
      "text/plain": [
       "torch.Size([64, 4608])"
      ]
     },
     "execution_count": 114,
     "metadata": {},
     "output_type": "execute_result"
    }
   ],
   "source": [
    "torch.flatten(x,1).shape"
   ]
  },
  {
   "cell_type": "markdown",
   "id": "cf95f24a-6364-49df-9ed2-7099f5acfba1",
   "metadata": {},
   "source": [
    "## Unsqueeze"
   ]
  },
  {
   "cell_type": "code",
   "execution_count": 89,
   "id": "4dd77471-dcf8-419b-b58c-96b9bc207039",
   "metadata": {},
   "outputs": [
    {
     "data": {
      "text/plain": [
       "(torch.Size([3, 10, 10]), torch.Size([1, 3, 10, 10]))"
      ]
     },
     "execution_count": 89,
     "metadata": {},
     "output_type": "execute_result"
    }
   ],
   "source": [
    "x= torch.zeros(3,10,10)\n",
    "x.shape, x.unsqueeze(0).shape"
   ]
  },
  {
   "cell_type": "markdown",
   "id": "9c1cfa63-7758-474f-b7da-06748cb2e50d",
   "metadata": {},
   "source": [
    "# Modules"
   ]
  },
  {
   "cell_type": "markdown",
   "id": "03e08707-6d53-470c-b050-c5f7162278e8",
   "metadata": {},
   "source": [
    "## BatchNormal"
   ]
  },
  {
   "cell_type": "code",
   "execution_count": 74,
   "id": "ca62433d-3c13-4617-8341-d337aa4dc4d3",
   "metadata": {},
   "outputs": [
    {
     "name": "stdout",
     "output_type": "stream",
     "text": [
      "x= tensor([[7.5000, 8.0000, 3.5000, 2.0000, 8.5000],\n",
      "        [9.0000, 5.0000, 4.0000, 6.5000, 1.0000],\n",
      "        [9.5000, 5.5000, 3.0000, 1.5000, 0.5000],\n",
      "        [7.0000, 0.0000, 6.0000, 4.5000, 2.5000]]) (shape=torch.Size([4, 5]))\n",
      "bn(x)= tensor([[-0.7276,  1.1630, -0.5488, -0.8078,  1.6853],\n",
      "        [ 0.7276,  0.1292, -0.1098,  1.4291, -0.6663],\n",
      "        [ 1.2127,  0.3015, -0.9879, -1.0563, -0.8231],\n",
      "        [-1.2127, -1.5937,  1.6465,  0.4350, -0.1960]],\n",
      "       grad_fn=<NativeBatchNormBackward>)\n"
     ]
    }
   ],
   "source": [
    "x= torch.tensor(range(20))/2.0\n",
    "x= x[torch.randperm(x.shape[0])].reshape(-1,5)\n",
    "print(f'x= {x} (shape={x.shape})')\n",
    "bn= torch.nn.BatchNorm1d(5)\n",
    "# bn.bias.data.fill_(1e-3)\n",
    "bn.weight.data.fill_(0.)\n",
    "# bn.bias.data= torch.Tensor([1.,2.,3.,4.,5.])*0.1\n",
    "# bn.weight.data= torch.Tensor([5.,4.,3.,2.,1.])*0.1\n",
    "bn.weight.data.fill_(1.)\n",
    "print(f'bn(x)= {bn(x)}')"
   ]
  },
  {
   "cell_type": "code",
   "execution_count": 75,
   "id": "4329175b-4f29-4d94-8337-112e84820da2",
   "metadata": {},
   "outputs": [
    {
     "data": {
      "text/plain": [
       "(tensor([1., 1., 1., 1., 1.]), tensor([0., 0., 0., 0., 0.]))"
      ]
     },
     "execution_count": 75,
     "metadata": {},
     "output_type": "execute_result"
    }
   ],
   "source": [
    "bn.weight.data, bn.bias.data"
   ]
  },
  {
   "cell_type": "code",
   "execution_count": 77,
   "id": "3f9ce4b5-6e62-4ce2-aeb8-55608e98b81e",
   "metadata": {},
   "outputs": [
    {
     "data": {
      "text/plain": [
       "tensor([[-0.6301,  1.0072, -0.4753, -0.6996,  1.4595],\n",
       "        [ 0.6301,  0.1119, -0.0951,  1.2377, -0.5770],\n",
       "        [ 1.0502,  0.2611, -0.8555, -0.9148, -0.7128],\n",
       "        [-1.0502, -1.3802,  1.4259,  0.3767, -0.1697]], grad_fn=<AddBackward0>)"
      ]
     },
     "execution_count": 77,
     "metadata": {},
     "output_type": "execute_result"
    }
   ],
   "source": [
    "torch.mean(x,axis=0), torch.var(x,axis=0)\n",
    "(x-torch.mean(x,axis=0))/torch.sqrt(torch.var(x,axis=0)) * bn.weight + bn.bias"
   ]
  },
  {
   "cell_type": "code",
   "execution_count": 82,
   "id": "ddcda507-9171-4748-8aa8-2e1f308501e3",
   "metadata": {},
   "outputs": [
    {
     "ename": "ValueError",
     "evalue": "InstanceNorm1d returns 0-filled tensor to 2D tensor.This is because InstanceNorm1d reshapes inputs to(1, N * C, ...) from (N, C,...) and this makesvariances 0.",
     "output_type": "error",
     "traceback": [
      "\u001b[0;31m---------------------------------------------------------------------------\u001b[0m",
      "\u001b[0;31mValueError\u001b[0m                                Traceback (most recent call last)",
      "\u001b[0;32m<ipython-input-82-914f3ccaff3d>\u001b[0m in \u001b[0;36m<module>\u001b[0;34m\u001b[0m\n\u001b[1;32m      5\u001b[0m \u001b[0;31m# inn.weight.data= torch.Tensor([5.,4.,3.,2.,1.])*0.1\u001b[0m\u001b[0;34m\u001b[0m\u001b[0;34m\u001b[0m\u001b[0;34m\u001b[0m\u001b[0m\n\u001b[1;32m      6\u001b[0m \u001b[0;31m# inn.weight.data.fill_(1.)\u001b[0m\u001b[0;34m\u001b[0m\u001b[0;34m\u001b[0m\u001b[0;34m\u001b[0m\u001b[0m\n\u001b[0;32m----> 7\u001b[0;31m \u001b[0mprint\u001b[0m\u001b[0;34m(\u001b[0m\u001b[0;34mf'inn(x)= {inn(x)}'\u001b[0m\u001b[0;34m)\u001b[0m\u001b[0;34m\u001b[0m\u001b[0;34m\u001b[0m\u001b[0m\n\u001b[0m",
      "\u001b[0;32m~/.local/lib/python3.6/site-packages/torch/nn/modules/module.py\u001b[0m in \u001b[0;36m_call_impl\u001b[0;34m(self, *input, **kwargs)\u001b[0m\n\u001b[1;32m   1049\u001b[0m         if not (self._backward_hooks or self._forward_hooks or self._forward_pre_hooks or _global_backward_hooks\n\u001b[1;32m   1050\u001b[0m                 or _global_forward_hooks or _global_forward_pre_hooks):\n\u001b[0;32m-> 1051\u001b[0;31m             \u001b[0;32mreturn\u001b[0m \u001b[0mforward_call\u001b[0m\u001b[0;34m(\u001b[0m\u001b[0;34m*\u001b[0m\u001b[0minput\u001b[0m\u001b[0;34m,\u001b[0m \u001b[0;34m**\u001b[0m\u001b[0mkwargs\u001b[0m\u001b[0;34m)\u001b[0m\u001b[0;34m\u001b[0m\u001b[0;34m\u001b[0m\u001b[0m\n\u001b[0m\u001b[1;32m   1052\u001b[0m         \u001b[0;31m# Do not call functions when jit is used\u001b[0m\u001b[0;34m\u001b[0m\u001b[0;34m\u001b[0m\u001b[0;34m\u001b[0m\u001b[0m\n\u001b[1;32m   1053\u001b[0m         \u001b[0mfull_backward_hooks\u001b[0m\u001b[0;34m,\u001b[0m \u001b[0mnon_full_backward_hooks\u001b[0m \u001b[0;34m=\u001b[0m \u001b[0;34m[\u001b[0m\u001b[0;34m]\u001b[0m\u001b[0;34m,\u001b[0m \u001b[0;34m[\u001b[0m\u001b[0;34m]\u001b[0m\u001b[0;34m\u001b[0m\u001b[0;34m\u001b[0m\u001b[0m\n",
      "\u001b[0;32m~/.local/lib/python3.6/site-packages/torch/nn/modules/instancenorm.py\u001b[0m in \u001b[0;36mforward\u001b[0;34m(self, input)\u001b[0m\n\u001b[1;32m     54\u001b[0m \u001b[0;34m\u001b[0m\u001b[0m\n\u001b[1;32m     55\u001b[0m     \u001b[0;32mdef\u001b[0m \u001b[0mforward\u001b[0m\u001b[0;34m(\u001b[0m\u001b[0mself\u001b[0m\u001b[0;34m,\u001b[0m \u001b[0minput\u001b[0m\u001b[0;34m:\u001b[0m \u001b[0mTensor\u001b[0m\u001b[0;34m)\u001b[0m \u001b[0;34m->\u001b[0m \u001b[0mTensor\u001b[0m\u001b[0;34m:\u001b[0m\u001b[0;34m\u001b[0m\u001b[0;34m\u001b[0m\u001b[0m\n\u001b[0;32m---> 56\u001b[0;31m         \u001b[0mself\u001b[0m\u001b[0;34m.\u001b[0m\u001b[0m_check_input_dim\u001b[0m\u001b[0;34m(\u001b[0m\u001b[0minput\u001b[0m\u001b[0;34m)\u001b[0m\u001b[0;34m\u001b[0m\u001b[0;34m\u001b[0m\u001b[0m\n\u001b[0m\u001b[1;32m     57\u001b[0m         return F.instance_norm(\n\u001b[1;32m     58\u001b[0m             \u001b[0minput\u001b[0m\u001b[0;34m,\u001b[0m \u001b[0mself\u001b[0m\u001b[0;34m.\u001b[0m\u001b[0mrunning_mean\u001b[0m\u001b[0;34m,\u001b[0m \u001b[0mself\u001b[0m\u001b[0;34m.\u001b[0m\u001b[0mrunning_var\u001b[0m\u001b[0;34m,\u001b[0m \u001b[0mself\u001b[0m\u001b[0;34m.\u001b[0m\u001b[0mweight\u001b[0m\u001b[0;34m,\u001b[0m \u001b[0mself\u001b[0m\u001b[0;34m.\u001b[0m\u001b[0mbias\u001b[0m\u001b[0;34m,\u001b[0m\u001b[0;34m\u001b[0m\u001b[0;34m\u001b[0m\u001b[0m\n",
      "\u001b[0;32m~/.local/lib/python3.6/site-packages/torch/nn/modules/instancenorm.py\u001b[0m in \u001b[0;36m_check_input_dim\u001b[0;34m(self, input)\u001b[0m\n\u001b[1;32m    131\u001b[0m         \u001b[0;32mif\u001b[0m \u001b[0minput\u001b[0m\u001b[0;34m.\u001b[0m\u001b[0mdim\u001b[0m\u001b[0;34m(\u001b[0m\u001b[0;34m)\u001b[0m \u001b[0;34m==\u001b[0m \u001b[0;36m2\u001b[0m\u001b[0;34m:\u001b[0m\u001b[0;34m\u001b[0m\u001b[0;34m\u001b[0m\u001b[0m\n\u001b[1;32m    132\u001b[0m             raise ValueError(\n\u001b[0;32m--> 133\u001b[0;31m                 \u001b[0;34m'InstanceNorm1d returns 0-filled tensor to 2D tensor.'\u001b[0m\u001b[0;34m\u001b[0m\u001b[0;34m\u001b[0m\u001b[0m\n\u001b[0m\u001b[1;32m    134\u001b[0m                 \u001b[0;34m'This is because InstanceNorm1d reshapes inputs to'\u001b[0m\u001b[0;34m\u001b[0m\u001b[0;34m\u001b[0m\u001b[0m\n\u001b[1;32m    135\u001b[0m                 \u001b[0;34m'(1, N * C, ...) from (N, C,...) and this makes'\u001b[0m\u001b[0;34m\u001b[0m\u001b[0;34m\u001b[0m\u001b[0m\n",
      "\u001b[0;31mValueError\u001b[0m: InstanceNorm1d returns 0-filled tensor to 2D tensor.This is because InstanceNorm1d reshapes inputs to(1, N * C, ...) from (N, C,...) and this makesvariances 0."
     ]
    }
   ],
   "source": [
    "inn= torch.nn.InstanceNorm1d(5, affine=True)\n",
    "# inn.bias.data.fill_(1e-3)\n",
    "# inn.weight.data.fill_(0.)\n",
    "# inn.bias.data= torch.Tensor([1.,2.,3.,4.,5.])*0.1\n",
    "# inn.weight.data= torch.Tensor([5.,4.,3.,2.,1.])*0.1\n",
    "# inn.weight.data.fill_(1.)\n",
    "print(f'inn(x)= {inn(x)}')"
   ]
  },
  {
   "cell_type": "markdown",
   "id": "a1452707-6a61-431a-a5df-bfdfda03ff71",
   "metadata": {},
   "source": [
    "## Max module"
   ]
  },
  {
   "cell_type": "code",
   "execution_count": 91,
   "id": "c57a4225-f72c-4f3f-abc4-96232d36dd18",
   "metadata": {},
   "outputs": [
    {
     "data": {
      "text/plain": [
       "tensor([[[[59.0000, 17.0000, 55.5000, 56.5000, 58.5000],\n",
       "          [24.0000, 39.5000, 50.5000, 62.0000, 72.5000],\n",
       "          [28.0000, 42.5000, 41.0000, 51.0000, 36.5000],\n",
       "          [54.0000, 70.0000, 35.5000, 20.0000, 28.5000],\n",
       "          [26.0000, 16.0000,  6.0000, 70.5000, 49.0000]],\n",
       "\n",
       "         [[19.0000,  0.0000, 23.0000, 48.5000, 14.0000],\n",
       "          [65.5000, 36.0000,  4.0000, 64.0000, 12.0000],\n",
       "          [25.0000, 34.0000, 35.0000,  2.5000, 30.5000],\n",
       "          [61.0000, 54.5000, 25.5000, 60.0000, 69.0000],\n",
       "          [65.0000,  1.5000, 68.0000, 45.0000, 32.0000]],\n",
       "\n",
       "         [[19.5000, 31.0000, 57.5000, 13.0000, 46.0000],\n",
       "          [55.0000, 14.5000, 53.5000,  2.0000, 43.5000],\n",
       "          [49.5000, 67.5000, 46.5000, 15.5000, 61.5000],\n",
       "          [34.5000,  3.0000, 10.5000, 44.0000,  1.0000],\n",
       "          [ 9.0000, 38.5000, 60.5000, 33.5000, 72.0000]]],\n",
       "\n",
       "\n",
       "        [[[33.0000, 73.5000, 41.5000,  4.5000, 18.5000],\n",
       "          [31.5000,  3.5000,  5.0000, 63.0000, 62.5000],\n",
       "          [69.5000, 23.5000, 40.5000, 71.5000, 20.5000],\n",
       "          [16.5000, 18.0000, 47.0000, 48.0000, 22.5000],\n",
       "          [29.0000, 74.0000, 74.5000,  9.5000, 27.0000]],\n",
       "\n",
       "         [[29.5000, 63.5000, 67.0000, 17.5000, 66.0000],\n",
       "          [13.5000, 21.0000, 11.0000, 45.5000, 44.5000],\n",
       "          [27.5000, 58.0000, 42.0000,  7.5000, 24.5000],\n",
       "          [ 6.5000, 37.5000, 56.0000,  8.0000, 47.5000],\n",
       "          [40.0000, 50.0000, 73.0000, 53.0000, 52.5000]],\n",
       "\n",
       "         [[68.5000,  8.5000, 52.0000, 26.5000, 43.0000],\n",
       "          [ 0.5000, 51.5000, 57.0000, 66.5000, 22.0000],\n",
       "          [38.0000, 10.0000, 71.0000, 32.5000, 12.5000],\n",
       "          [ 7.0000, 64.5000, 11.5000, 21.5000, 15.0000],\n",
       "          [30.0000, 59.5000, 39.0000, 37.0000,  5.5000]]]])"
      ]
     },
     "execution_count": 91,
     "metadata": {},
     "output_type": "execute_result"
    }
   ],
   "source": [
    "x= torch.tensor(range(150))/2.0\n",
    "x= x[torch.randperm(x.shape[0])].reshape(-1,3,5,5)\n",
    "x"
   ]
  },
  {
   "cell_type": "code",
   "execution_count": 99,
   "id": "1fbf9b93-dd99-4933-bc1c-e556677ea1b9",
   "metadata": {},
   "outputs": [
    {
     "data": {
      "text/plain": [
       "torch.Size([2, 1, 5, 5])"
      ]
     },
     "execution_count": 99,
     "metadata": {},
     "output_type": "execute_result"
    }
   ],
   "source": [
    "torch.max(x, axis=1)[0].unsqueeze(1).shape"
   ]
  },
  {
   "cell_type": "code",
   "execution_count": 103,
   "id": "15923a8d-9903-4a91-a9a5-91b992e4529b",
   "metadata": {},
   "outputs": [],
   "source": [
    "class TMax(torch.nn.Module):\n",
    "  def forward(self, x):\n",
    "    return torch.max(x, axis=1)[0].unsqueeze(1)"
   ]
  },
  {
   "cell_type": "code",
   "execution_count": 104,
   "id": "720a3575-d763-4eee-b0cc-d7d1ffec8078",
   "metadata": {},
   "outputs": [
    {
     "data": {
      "text/plain": [
       "tensor([[[[59.0000, 31.0000, 57.5000, 56.5000, 58.5000],\n",
       "          [65.5000, 39.5000, 53.5000, 64.0000, 72.5000],\n",
       "          [49.5000, 67.5000, 46.5000, 51.0000, 61.5000],\n",
       "          [61.0000, 70.0000, 35.5000, 60.0000, 69.0000],\n",
       "          [65.0000, 38.5000, 68.0000, 70.5000, 72.0000]]],\n",
       "\n",
       "\n",
       "        [[[68.5000, 73.5000, 67.0000, 26.5000, 66.0000],\n",
       "          [31.5000, 51.5000, 57.0000, 66.5000, 62.5000],\n",
       "          [69.5000, 58.0000, 71.0000, 71.5000, 24.5000],\n",
       "          [16.5000, 64.5000, 56.0000, 48.0000, 47.5000],\n",
       "          [40.0000, 74.0000, 74.5000, 53.0000, 52.5000]]]])"
      ]
     },
     "execution_count": 104,
     "metadata": {},
     "output_type": "execute_result"
    }
   ],
   "source": [
    "m= TMax()\n",
    "m(x)"
   ]
  },
  {
   "cell_type": "code",
   "execution_count": null,
   "id": "12794725-6834-45a4-a477-d939bb895950",
   "metadata": {},
   "outputs": [],
   "source": []
  }
 ],
 "metadata": {
  "kernelspec": {
   "display_name": "Python 3",
   "language": "python",
   "name": "python3"
  },
  "language_info": {
   "codemirror_mode": {
    "name": "ipython",
    "version": 3
   },
   "file_extension": ".py",
   "mimetype": "text/x-python",
   "name": "python",
   "nbconvert_exporter": "python",
   "pygments_lexer": "ipython3",
   "version": "3.6.9"
  }
 },
 "nbformat": 4,
 "nbformat_minor": 5
}
