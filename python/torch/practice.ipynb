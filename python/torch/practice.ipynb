{
 "cells": [
  {
   "cell_type": "code",
   "execution_count": 1,
   "id": "33dd4db4-0c53-46a7-bb4e-45e697180331",
   "metadata": {},
   "outputs": [],
   "source": [
    "import numpy as np\n",
    "import torch\n",
    "import torchvision\n",
    "import torchinfo"
   ]
  },
  {
   "cell_type": "markdown",
   "id": "d5516360-db01-4f22-a1d0-decdd6d7350b",
   "metadata": {},
   "source": [
    "# Python basic"
   ]
  },
  {
   "cell_type": "code",
   "execution_count": 9,
   "id": "afd17d15-71e0-4525-8fb3-1b02d9541523",
   "metadata": {},
   "outputs": [],
   "source": [
    "#Local variable holder.\n",
    "class TLocalVar:\n",
    "  def __init__(self, l):\n",
    "    self.__dict__= l"
   ]
  },
  {
   "cell_type": "code",
   "execution_count": 13,
   "id": "fd1d5477-0261-4e63-9bcc-bd7f4b6d77b3",
   "metadata": {},
   "outputs": [
    {
     "name": "stdout",
     "output_type": "stream",
     "text": [
      "{'b': 10, 'a': 100}\n",
      "<__main__.TLocalVar object at 0x7fe432f197b8>\n",
      "100 10\n",
      "10000 1000\n",
      "100 10\n",
      "100 10\n"
     ]
    }
   ],
   "source": [
    "def test_f(a):\n",
    "  b= 10\n",
    "  print(locals())\n",
    "  l= TLocalVar(locals())\n",
    "  print(l)\n",
    "  # print(l['a'])\n",
    "  print(l.a,l.b)\n",
    "  l.a*= 100\n",
    "  l.b*= 100\n",
    "  print(l.a,l.b)\n",
    "  print(a,b)\n",
    "  locals()['a']*= 100\n",
    "  print(a,b)\n",
    "test_f(100)"
   ]
  },
  {
   "cell_type": "code",
   "execution_count": 14,
   "id": "63f4cb81-ee08-4395-ad5b-1bcaf5ad7613",
   "metadata": {},
   "outputs": [],
   "source": [
    "#Container class to share variables.\n",
    "class TContainer(object):\n",
    "  def __init__(self):\n",
    "    pass\n",
    "  def __del__(self):\n",
    "    pass\n",
    "  def __str__(self):\n",
    "    return str(self.__dict__)\n",
    "  def __repr__(self):\n",
    "    return str(self.__dict__)\n",
    "  def __iter__(self):\n",
    "    return self.__dict__.itervalues()\n",
    "  def items(self):\n",
    "    return self.__dict__.items()\n",
    "  def iteritems(self):\n",
    "    return self.__dict__.iteritems()\n",
    "  def keys(self):\n",
    "    return self.__dict__.keys()\n",
    "  def values(self):\n",
    "    return self.__dict__.values()\n",
    "  def __getitem__(self,key):\n",
    "    return self.__dict__[key]\n",
    "  def __setitem__(self,key,value):\n",
    "    self.__dict__[key]= value\n",
    "  def __delitem__(self,key):\n",
    "    del self.__dict__[key]\n",
    "  def __contains__(self,key):\n",
    "    return key in self.__dict__\n",
    "  def Cleanup(self):\n",
    "    keys= self.__dict__.keys()\n",
    "    for k in keys:\n",
    "      self.__dict__[k]= None\n",
    "      del self.__dict__[k]"
   ]
  },
  {
   "cell_type": "code",
   "execution_count": 15,
   "id": "0676f7cd-3474-4529-a64b-1265cdc7d125",
   "metadata": {},
   "outputs": [],
   "source": [
    "l= TContainer()"
   ]
  },
  {
   "cell_type": "code",
   "execution_count": 16,
   "id": "76635cb3-5d93-45b1-8fde-b4f225ec8aaf",
   "metadata": {},
   "outputs": [
    {
     "name": "stdout",
     "output_type": "stream",
     "text": [
      "0\n",
      "1\n",
      "2\n"
     ]
    }
   ],
   "source": [
    "for l.i in range(3):\n",
    "  print(l.i)"
   ]
  },
  {
   "cell_type": "markdown",
   "id": "a2997f12-cea9-4df4-a22c-e85f0ab69a21",
   "metadata": {},
   "source": [
    "# Torch Tensor"
   ]
  },
  {
   "cell_type": "markdown",
   "id": "98ef204c-076b-45bc-bbb5-b2f38dae470f",
   "metadata": {},
   "source": [
    "## shape and view"
   ]
  },
  {
   "cell_type": "code",
   "execution_count": 2,
   "id": "2c4e2384-ccf9-4aee-9ae5-0d24c703e259",
   "metadata": {},
   "outputs": [],
   "source": [
    "# n_batch= 1\n",
    "n_batch= 4"
   ]
  },
  {
   "cell_type": "code",
   "execution_count": 3,
   "id": "4003e627-2780-4b45-9540-ca1a80a21370",
   "metadata": {},
   "outputs": [],
   "source": [
    "x= torch.tensor(np.zeros((n_batch,3,32,32))).float()"
   ]
  },
  {
   "cell_type": "code",
   "execution_count": 4,
   "id": "1adcd99c-66bb-457d-b631-8469cbea5189",
   "metadata": {},
   "outputs": [
    {
     "data": {
      "text/plain": [
       "torch.Size([4, 3, 32, 32])"
      ]
     },
     "execution_count": 4,
     "metadata": {},
     "output_type": "execute_result"
    }
   ],
   "source": [
    "x.shape"
   ]
  },
  {
   "cell_type": "code",
   "execution_count": 5,
   "id": "143ea2e8-2fc6-4de0-a432-07604bbb315f",
   "metadata": {},
   "outputs": [
    {
     "data": {
      "text/plain": [
       "3072"
      ]
     },
     "execution_count": 5,
     "metadata": {},
     "output_type": "execute_result"
    }
   ],
   "source": [
    "x[0].numel()"
   ]
  },
  {
   "cell_type": "code",
   "execution_count": 6,
   "id": "6cefe48b-bcfb-498f-98e2-3df3d8ab8e2f",
   "metadata": {},
   "outputs": [
    {
     "data": {
      "text/plain": [
       "torch.Size([4, 3072])"
      ]
     },
     "execution_count": 6,
     "metadata": {},
     "output_type": "execute_result"
    }
   ],
   "source": [
    "x.view(x.size(0), -1).shape"
   ]
  },
  {
   "cell_type": "code",
   "execution_count": 7,
   "id": "8b63fd7e-d3ea-4611-b5b4-934fb1d2395c",
   "metadata": {},
   "outputs": [
    {
     "data": {
      "text/plain": [
       "Linear(in_features=3072, out_features=10, bias=True)"
      ]
     },
     "execution_count": 7,
     "metadata": {},
     "output_type": "execute_result"
    }
   ],
   "source": [
    "l=torch.nn.Linear(x[0].numel(), 10)\n",
    "l"
   ]
  },
  {
   "cell_type": "code",
   "execution_count": 8,
   "id": "cfbf94ba-e349-4e99-a8e2-203fb46672ba",
   "metadata": {},
   "outputs": [
    {
     "data": {
      "text/plain": [
       "tensor([ 0.0170, -0.0096, -0.0093, -0.0021,  0.0015,  0.0124,  0.0121,  0.0003,\n",
       "        -0.0003, -0.0002], grad_fn=<AddBackward0>)"
      ]
     },
     "execution_count": 8,
     "metadata": {},
     "output_type": "execute_result"
    }
   ],
   "source": [
    "l(x[0].view(-1))"
   ]
  },
  {
   "cell_type": "code",
   "execution_count": 9,
   "id": "1a42f4b3-532d-433a-9459-fd3c529657ef",
   "metadata": {},
   "outputs": [
    {
     "data": {
      "text/plain": [
       "tensor([[ 0.0170, -0.0096, -0.0093, -0.0021,  0.0015,  0.0124,  0.0121,  0.0003,\n",
       "         -0.0003, -0.0002],\n",
       "        [ 0.0170, -0.0096, -0.0093, -0.0021,  0.0015,  0.0124,  0.0121,  0.0003,\n",
       "         -0.0003, -0.0002],\n",
       "        [ 0.0170, -0.0096, -0.0093, -0.0021,  0.0015,  0.0124,  0.0121,  0.0003,\n",
       "         -0.0003, -0.0002],\n",
       "        [ 0.0170, -0.0096, -0.0093, -0.0021,  0.0015,  0.0124,  0.0121,  0.0003,\n",
       "         -0.0003, -0.0002]], grad_fn=<AddmmBackward>)"
      ]
     },
     "execution_count": 9,
     "metadata": {},
     "output_type": "execute_result"
    }
   ],
   "source": [
    "l(x.view(x.size(0), -1))"
   ]
  },
  {
   "cell_type": "markdown",
   "id": "49ebb019-610e-4640-b9dc-2c352ae9f0da",
   "metadata": {},
   "source": [
    "## cat (concatenate) and stack"
   ]
  },
  {
   "cell_type": "code",
   "execution_count": 10,
   "id": "9e80ca54-f1f4-4296-917f-4c4b20f641b6",
   "metadata": {},
   "outputs": [
    {
     "name": "stdout",
     "output_type": "stream",
     "text": [
      "x1=tensor([2., 3., 4.])\n",
      "x2=tensor([10., 22., 12.])\n",
      "torch.cat=tensor([ 2.,  3.,  4., 10., 22., 12.])\n",
      "torch.stack=tensor([[ 2.,  3.,  4.],\n",
      "        [10., 22., 12.]])\n"
     ]
    }
   ],
   "source": [
    "x1= torch.from_numpy(np.array([2,3,4])).float()\n",
    "x2= torch.from_numpy(np.array([10,22,12])).float()\n",
    "print(f'x1={x1}')\n",
    "print(f'x2={x2}')\n",
    "print(f'torch.cat={torch.cat((x1,x2),axis=0)}')\n",
    "print(f'torch.stack={torch.stack((x1,x2),axis=0)}')"
   ]
  },
  {
   "cell_type": "markdown",
   "id": "1ec1324f-4709-4b08-866d-fffb0765b492",
   "metadata": {},
   "source": [
    "# view and flatten"
   ]
  },
  {
   "cell_type": "code",
   "execution_count": 13,
   "id": "377877c4-c347-4b59-9914-115cfdcba967",
   "metadata": {},
   "outputs": [],
   "source": [
    "n_batch= 64\n",
    "x= torch.tensor(np.zeros((n_batch,128,6,6))).float()"
   ]
  },
  {
   "cell_type": "code",
   "execution_count": 14,
   "id": "9e00c52b-8e48-457a-9669-36392a9a5e6a",
   "metadata": {},
   "outputs": [
    {
     "data": {
      "text/plain": [
       "torch.Size([64, 128, 6, 6])"
      ]
     },
     "execution_count": 14,
     "metadata": {},
     "output_type": "execute_result"
    }
   ],
   "source": [
    "x.shape"
   ]
  },
  {
   "cell_type": "code",
   "execution_count": 19,
   "id": "e8c888bc-8e08-42a5-9350-d85c4400cf24",
   "metadata": {},
   "outputs": [
    {
     "data": {
      "text/plain": [
       "torch.Size([64, 4608])"
      ]
     },
     "execution_count": 19,
     "metadata": {},
     "output_type": "execute_result"
    }
   ],
   "source": [
    "x.view(x.shape[0], -1).shape"
   ]
  },
  {
   "cell_type": "code",
   "execution_count": 23,
   "id": "c265d07a-5ee8-462c-a44a-e911139a30b8",
   "metadata": {},
   "outputs": [
    {
     "data": {
      "text/plain": [
       "torch.Size([64, 4608])"
      ]
     },
     "execution_count": 23,
     "metadata": {},
     "output_type": "execute_result"
    }
   ],
   "source": [
    "flatten= torch.nn.Flatten()\n",
    "flatten(x).shape"
   ]
  },
  {
   "cell_type": "code",
   "execution_count": null,
   "id": "61d400b3-d368-4236-876b-4bfac40b11e7",
   "metadata": {},
   "outputs": [],
   "source": []
  },
  {
   "cell_type": "code",
   "execution_count": null,
   "id": "ca62433d-3c13-4617-8341-d337aa4dc4d3",
   "metadata": {},
   "outputs": [],
   "source": []
  }
 ],
 "metadata": {
  "kernelspec": {
   "display_name": "Python 3",
   "language": "python",
   "name": "python3"
  },
  "language_info": {
   "codemirror_mode": {
    "name": "ipython",
    "version": 3
   },
   "file_extension": ".py",
   "mimetype": "text/x-python",
   "name": "python",
   "nbconvert_exporter": "python",
   "pygments_lexer": "ipython3",
   "version": "3.6.9"
  }
 },
 "nbformat": 4,
 "nbformat_minor": 5
}
